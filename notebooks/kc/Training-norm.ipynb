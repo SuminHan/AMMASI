{
 "cells": [
  {
   "cell_type": "code",
   "execution_count": 1,
   "metadata": {},
   "outputs": [],
   "source": [
    "import os\n",
    "os.environ[\"CUDA_VISIBLE_DEVICES\"]= '1'"
   ]
  },
  {
   "cell_type": "code",
   "execution_count": 2,
   "metadata": {
    "scrolled": true
   },
   "outputs": [
    {
     "name": "stderr",
     "output_type": "stream",
     "text": [
      "2023-11-04 13:25:17.097541: I tensorflow/core/platform/cpu_feature_guard.cc:193] This TensorFlow binary is optimized with oneAPI Deep Neural Network Library (oneDNN) to use the following CPU instructions in performance-critical operations:  SSE4.1 SSE4.2 AVX AVX2 FMA\n",
      "To enable them in other operations, rebuild TensorFlow with the appropriate compiler flags.\n"
     ]
    }
   ],
   "source": [
    "%matplotlib inline\n",
    "\n",
    "import sys\n",
    "sys.path.append(\"../../\")\n",
    "\n",
    "from train_model_norm import train\n",
    "\n",
    "from sklearn.linear_model import LinearRegression\n",
    "from yellowbrick.regressor import ResidualsPlot, PredictionError\n",
    "\n",
    "import seaborn as sns\n",
    "import matplotlib.pyplot as plt\n",
    "\n",
    "from matplotlib import rcParams\n",
    "rcParams['figure.figsize'] = (8, 4)\n",
    "rcParams['figure.dpi'] = 100\n",
    "rcParams['font.size'] = 8\n",
    "rcParams['font.family'] = 'sans-serif'\n",
    "rcParams['axes.facecolor'] = '#ffffff'\n",
    "rcParams['lines.linewidth'] = 2.0"
   ]
  },
  {
   "cell_type": "code",
   "execution_count": 3,
   "metadata": {
    "scrolled": true
   },
   "outputs": [],
   "source": [
    "hyperparameter={\n",
    "\"num_nearest\":60,\n",
    "\"sigma\":2,\n",
    "\"learning_rate\":0.001,\n",
    "\"batch_size\":250,\n",
    "\"num_neuron\":60,\n",
    "\"num_layers\":3,\n",
    "\"size_embedded\":50,\n",
    "\"num_nearest_geo\":45,\n",
    "\"num_nearest_eucli\":45,\n",
    "\"id_dataset\":'kc',\n",
    "\"epochs\":300,\n",
    "\"optimier\":'adam',\n",
    "\"validation_split\":0.1,\n",
    "\"label\":'asi_kc',\n",
    "\"early_stopping\": False,\n",
    "\"graph_label\":'matrix',\n",
    "}"
   ]
  },
  {
   "cell_type": "markdown",
   "metadata": {},
   "source": [
    "# Model"
   ]
  },
  {
   "cell_type": "code",
   "execution_count": 4,
   "metadata": {},
   "outputs": [],
   "source": [
    "spatial = train(**hyperparameter)"
   ]
  },
  {
   "cell_type": "code",
   "execution_count": 5,
   "metadata": {
    "scrolled": true
   },
   "outputs": [
    {
     "name": "stderr",
     "output_type": "stream",
     "text": [
      "2023-11-04 13:25:45.092403: E tensorflow/compiler/xla/stream_executor/cuda/cuda_driver.cc:267] failed call to cuInit: CUDA_ERROR_COMPAT_NOT_SUPPORTED_ON_DEVICE: forward compatibility was attempted on non supported HW\n",
      "2023-11-04 13:25:45.092566: I tensorflow/compiler/xla/stream_executor/cuda/cuda_diagnostics.cc:169] retrieving CUDA diagnostic information for host: user-desktop\n",
      "2023-11-04 13:25:45.092607: I tensorflow/compiler/xla/stream_executor/cuda/cuda_diagnostics.cc:176] hostname: user-desktop\n",
      "2023-11-04 13:25:45.093234: I tensorflow/compiler/xla/stream_executor/cuda/cuda_diagnostics.cc:200] libcuda reported version is: 525.147.5\n",
      "2023-11-04 13:25:45.093354: I tensorflow/compiler/xla/stream_executor/cuda/cuda_diagnostics.cc:204] kernel reported version is: 525.125.6\n",
      "2023-11-04 13:25:45.093387: E tensorflow/compiler/xla/stream_executor/cuda/cuda_diagnostics.cc:313] kernel version 525.125.6 does not match DSO version 525.147.5 -- cannot find working devices in this configuration\n",
      "2023-11-04 13:25:45.096517: I tensorflow/core/platform/cpu_feature_guard.cc:193] This TensorFlow binary is optimized with oneAPI Deep Neural Network Library (oneDNN) to use the following CPU instructions in performance-critical operations:  SSE4.1 SSE4.2 AVX AVX2 FMA\n",
      "To enable them in other operations, rebuild TensorFlow with the appropriate compiler flags.\n"
     ]
    },
    {
     "name": "stdout",
     "output_type": "stream",
     "text": [
      "WARNING:tensorflow:From /home/smhan/.conda/envs/TF2/lib/python3.10/site-packages/tensorflow/python/autograph/pyct/static_analysis/liveness.py:83: Analyzer.lamba_check (from tensorflow.python.autograph.pyct.static_analysis.liveness) is deprecated and will be removed after 2023-09-23.\n",
      "Instructions for updating:\n",
      "Lambda fuctions will be no more assumed to be used in the statement where they are used, or at least in the same block. https://github.com/tensorflow/tensorflow/issues/56089\n",
      "Epoch 1/300\n",
      "61/63 [============================>.] - ETA: 0s - loss: 3.9813 - root_mean_squared_error: 5.7698\n",
      "Epoch 1: val_loss improved from inf to 0.75674, saving model to /disk1/jupyter/smhan/ASI-revised/output_norm/models/kc/asi_kc_weights.hdf5\n",
      "63/63 [==============================] - 12s 56ms/step - loss: 3.9187 - root_mean_squared_error: 5.7146 - val_loss: 0.7567 - val_root_mean_squared_error: 0.9632 - lr: 0.0010\n",
      "Epoch 2/300\n",
      "61/63 [============================>.] - ETA: 0s - loss: 0.4799 - root_mean_squared_error: 0.6485\n",
      "Epoch 2: val_loss improved from 0.75674 to 0.31030, saving model to /disk1/jupyter/smhan/ASI-revised/output_norm/models/kc/asi_kc_weights.hdf5\n",
      "63/63 [==============================] - 2s 28ms/step - loss: 0.4761 - root_mean_squared_error: 0.6444 - val_loss: 0.3103 - val_root_mean_squared_error: 0.3927 - lr: 0.0010\n",
      "Epoch 3/300\n",
      "63/63 [==============================] - ETA: 0s - loss: 0.2261 - root_mean_squared_error: 0.2969\n",
      "Epoch 3: val_loss improved from 0.31030 to 0.19826, saving model to /disk1/jupyter/smhan/ASI-revised/output_norm/models/kc/asi_kc_weights.hdf5\n",
      "63/63 [==============================] - 2s 28ms/step - loss: 0.2261 - root_mean_squared_error: 0.2969 - val_loss: 0.1983 - val_root_mean_squared_error: 0.2554 - lr: 0.0010\n",
      "Epoch 4/300\n",
      "63/63 [==============================] - ETA: 0s - loss: 0.1733 - root_mean_squared_error: 0.2263\n",
      "Epoch 4: val_loss improved from 0.19826 to 0.14892, saving model to /disk1/jupyter/smhan/ASI-revised/output_norm/models/kc/asi_kc_weights.hdf5\n",
      "63/63 [==============================] - 2s 28ms/step - loss: 0.1733 - root_mean_squared_error: 0.2263 - val_loss: 0.1489 - val_root_mean_squared_error: 0.1982 - lr: 0.0010\n",
      "Epoch 5/300\n",
      "63/63 [==============================] - ETA: 0s - loss: 0.1493 - root_mean_squared_error: 0.1985\n",
      "Epoch 5: val_loss did not improve from 0.14892\n",
      "63/63 [==============================] - 2s 28ms/step - loss: 0.1493 - root_mean_squared_error: 0.1985 - val_loss: 0.1511 - val_root_mean_squared_error: 0.1998 - lr: 0.0010\n",
      "Epoch 6/300\n",
      "62/63 [============================>.] - ETA: 0s - loss: 0.1377 - root_mean_squared_error: 0.1852\n",
      "Epoch 6: val_loss improved from 0.14892 to 0.13667, saving model to /disk1/jupyter/smhan/ASI-revised/output_norm/models/kc/asi_kc_weights.hdf5\n",
      "63/63 [==============================] - 3s 53ms/step - loss: 0.1376 - root_mean_squared_error: 0.1851 - val_loss: 0.1367 - val_root_mean_squared_error: 0.1831 - lr: 0.0010\n",
      "Epoch 7/300\n",
      "62/63 [============================>.] - ETA: 0s - loss: 0.1322 - root_mean_squared_error: 0.1793\n",
      "Epoch 7: val_loss did not improve from 0.13667\n",
      "63/63 [==============================] - 2s 28ms/step - loss: 0.1322 - root_mean_squared_error: 0.1793 - val_loss: 0.1528 - val_root_mean_squared_error: 0.1998 - lr: 0.0010\n",
      "Epoch 8/300\n",
      "61/63 [============================>.] - ETA: 0s - loss: 0.1375 - root_mean_squared_error: 0.1843\n",
      "Epoch 8: val_loss did not improve from 0.13667\n",
      "63/63 [==============================] - 2s 29ms/step - loss: 0.1376 - root_mean_squared_error: 0.1844 - val_loss: 0.1460 - val_root_mean_squared_error: 0.1924 - lr: 0.0010\n",
      "Epoch 9/300\n",
      "63/63 [==============================] - ETA: 0s - loss: 0.1321 - root_mean_squared_error: 0.1784\n",
      "Epoch 9: val_loss improved from 0.13667 to 0.13040, saving model to /disk1/jupyter/smhan/ASI-revised/output_norm/models/kc/asi_kc_weights.hdf5\n",
      "63/63 [==============================] - 2s 30ms/step - loss: 0.1321 - root_mean_squared_error: 0.1784 - val_loss: 0.1304 - val_root_mean_squared_error: 0.1766 - lr: 0.0010\n",
      "Epoch 10/300\n",
      "61/63 [============================>.] - ETA: 0s - loss: 0.1302 - root_mean_squared_error: 0.1762\n",
      "Epoch 10: val_loss did not improve from 0.13040\n",
      "63/63 [==============================] - 2s 29ms/step - loss: 0.1300 - root_mean_squared_error: 0.1762 - val_loss: 0.1490 - val_root_mean_squared_error: 0.1962 - lr: 0.0010\n",
      "Epoch 11/300\n",
      "63/63 [==============================] - ETA: 0s - loss: 0.1295 - root_mean_squared_error: 0.1754\n",
      "Epoch 11: val_loss improved from 0.13040 to 0.12294, saving model to /disk1/jupyter/smhan/ASI-revised/output_norm/models/kc/asi_kc_weights.hdf5\n",
      "63/63 [==============================] - 2s 29ms/step - loss: 0.1295 - root_mean_squared_error: 0.1754 - val_loss: 0.1229 - val_root_mean_squared_error: 0.1705 - lr: 0.0010\n",
      "Epoch 12/300\n",
      "63/63 [==============================] - ETA: 0s - loss: 0.1262 - root_mean_squared_error: 0.1719\n",
      "Epoch 12: val_loss improved from 0.12294 to 0.12220, saving model to /disk1/jupyter/smhan/ASI-revised/output_norm/models/kc/asi_kc_weights.hdf5\n",
      "63/63 [==============================] - 2s 27ms/step - loss: 0.1262 - root_mean_squared_error: 0.1719 - val_loss: 0.1222 - val_root_mean_squared_error: 0.1693 - lr: 0.0010\n",
      "Epoch 13/300\n",
      "61/63 [============================>.] - ETA: 0s - loss: 0.1230 - root_mean_squared_error: 0.1686\n",
      "Epoch 13: val_loss did not improve from 0.12220\n",
      "63/63 [==============================] - 2s 25ms/step - loss: 0.1231 - root_mean_squared_error: 0.1687 - val_loss: 0.1261 - val_root_mean_squared_error: 0.1740 - lr: 0.0010\n",
      "Epoch 14/300\n",
      "61/63 [============================>.] - ETA: 0s - loss: 0.1234 - root_mean_squared_error: 0.1691\n",
      "Epoch 14: val_loss did not improve from 0.12220\n",
      "63/63 [==============================] - 2s 25ms/step - loss: 0.1239 - root_mean_squared_error: 0.1696 - val_loss: 0.1461 - val_root_mean_squared_error: 0.1905 - lr: 0.0010\n",
      "Epoch 15/300\n",
      "61/63 [============================>.] - ETA: 0s - loss: 0.1234 - root_mean_squared_error: 0.1687\n",
      "Epoch 15: val_loss did not improve from 0.12220\n",
      "63/63 [==============================] - 2s 25ms/step - loss: 0.1234 - root_mean_squared_error: 0.1687 - val_loss: 0.1269 - val_root_mean_squared_error: 0.1741 - lr: 0.0010\n",
      "Epoch 16/300\n",
      "61/63 [============================>.] - ETA: 0s - loss: 0.1234 - root_mean_squared_error: 0.1691\n",
      "Epoch 16: val_loss did not improve from 0.12220\n",
      "63/63 [==============================] - 2s 25ms/step - loss: 0.1233 - root_mean_squared_error: 0.1689 - val_loss: 0.1232 - val_root_mean_squared_error: 0.1698 - lr: 0.0010\n",
      "Epoch 17/300\n",
      "62/63 [============================>.] - ETA: 0s - loss: 0.1233 - root_mean_squared_error: 0.1680\n",
      "Epoch 17: val_loss did not improve from 0.12220\n",
      "63/63 [==============================] - 2s 26ms/step - loss: 0.1233 - root_mean_squared_error: 0.1681 - val_loss: 0.1651 - val_root_mean_squared_error: 0.2121 - lr: 0.0010\n",
      "Epoch 18/300\n",
      "61/63 [============================>.] - ETA: 0s - loss: 0.1175 - root_mean_squared_error: 0.1631\n",
      "Epoch 18: val_loss improved from 0.12220 to 0.11663, saving model to /disk1/jupyter/smhan/ASI-revised/output_norm/models/kc/asi_kc_weights.hdf5\n",
      "63/63 [==============================] - 2s 26ms/step - loss: 0.1175 - root_mean_squared_error: 0.1630 - val_loss: 0.1166 - val_root_mean_squared_error: 0.1648 - lr: 1.0000e-04\n",
      "Epoch 19/300\n",
      "61/63 [============================>.] - ETA: 0s - loss: 0.1124 - root_mean_squared_error: 0.1581\n",
      "Epoch 19: val_loss did not improve from 0.11663\n",
      "63/63 [==============================] - 2s 25ms/step - loss: 0.1124 - root_mean_squared_error: 0.1582 - val_loss: 0.1167 - val_root_mean_squared_error: 0.1648 - lr: 1.0000e-04\n",
      "Epoch 20/300\n",
      "61/63 [============================>.] - ETA: 0s - loss: 0.1121 - root_mean_squared_error: 0.1577\n",
      "Epoch 20: val_loss improved from 0.11663 to 0.11595, saving model to /disk1/jupyter/smhan/ASI-revised/output_norm/models/kc/asi_kc_weights.hdf5\n",
      "63/63 [==============================] - 2s 26ms/step - loss: 0.1123 - root_mean_squared_error: 0.1580 - val_loss: 0.1159 - val_root_mean_squared_error: 0.1642 - lr: 1.0000e-04\n",
      "Epoch 21/300\n",
      "63/63 [==============================] - ETA: 0s - loss: 0.1124 - root_mean_squared_error: 0.1580\n",
      "Epoch 21: val_loss did not improve from 0.11595\n"
     ]
    },
    {
     "name": "stdout",
     "output_type": "stream",
     "text": [
      "63/63 [==============================] - 2s 25ms/step - loss: 0.1124 - root_mean_squared_error: 0.1580 - val_loss: 0.1163 - val_root_mean_squared_error: 0.1641 - lr: 1.0000e-04\n",
      "Epoch 22/300\n",
      "61/63 [============================>.] - ETA: 0s - loss: 0.1119 - root_mean_squared_error: 0.1576\n",
      "Epoch 22: val_loss did not improve from 0.11595\n",
      "63/63 [==============================] - 2s 25ms/step - loss: 0.1121 - root_mean_squared_error: 0.1579 - val_loss: 0.1167 - val_root_mean_squared_error: 0.1647 - lr: 1.0000e-04\n",
      "Epoch 23/300\n",
      "61/63 [============================>.] - ETA: 0s - loss: 0.1117 - root_mean_squared_error: 0.1575\n",
      "Epoch 23: val_loss improved from 0.11595 to 0.11590, saving model to /disk1/jupyter/smhan/ASI-revised/output_norm/models/kc/asi_kc_weights.hdf5\n",
      "63/63 [==============================] - 2s 26ms/step - loss: 0.1118 - root_mean_squared_error: 0.1576 - val_loss: 0.1159 - val_root_mean_squared_error: 0.1642 - lr: 1.0000e-04\n",
      "Epoch 24/300\n",
      "61/63 [============================>.] - ETA: 0s - loss: 0.1126 - root_mean_squared_error: 0.1582\n",
      "Epoch 24: val_loss improved from 0.11590 to 0.11584, saving model to /disk1/jupyter/smhan/ASI-revised/output_norm/models/kc/asi_kc_weights.hdf5\n",
      "63/63 [==============================] - 2s 25ms/step - loss: 0.1124 - root_mean_squared_error: 0.1580 - val_loss: 0.1158 - val_root_mean_squared_error: 0.1639 - lr: 1.0000e-04\n",
      "Epoch 25/300\n",
      "63/63 [==============================] - ETA: 0s - loss: 0.1116 - root_mean_squared_error: 0.1575\n",
      "Epoch 25: val_loss improved from 0.11584 to 0.11569, saving model to /disk1/jupyter/smhan/ASI-revised/output_norm/models/kc/asi_kc_weights.hdf5\n",
      "63/63 [==============================] - 2s 26ms/step - loss: 0.1116 - root_mean_squared_error: 0.1575 - val_loss: 0.1157 - val_root_mean_squared_error: 0.1639 - lr: 1.0000e-04\n",
      "Epoch 26/300\n",
      "61/63 [============================>.] - ETA: 0s - loss: 0.1115 - root_mean_squared_error: 0.1574\n",
      "Epoch 26: val_loss improved from 0.11569 to 0.11566, saving model to /disk1/jupyter/smhan/ASI-revised/output_norm/models/kc/asi_kc_weights.hdf5\n",
      "63/63 [==============================] - 2s 25ms/step - loss: 0.1115 - root_mean_squared_error: 0.1574 - val_loss: 0.1157 - val_root_mean_squared_error: 0.1637 - lr: 1.0000e-04\n",
      "Epoch 27/300\n",
      "61/63 [============================>.] - ETA: 0s - loss: 0.1118 - root_mean_squared_error: 0.1576\n",
      "Epoch 27: val_loss did not improve from 0.11566\n",
      "63/63 [==============================] - 1s 24ms/step - loss: 0.1118 - root_mean_squared_error: 0.1575 - val_loss: 0.1160 - val_root_mean_squared_error: 0.1640 - lr: 1.0000e-04\n",
      "Epoch 28/300\n",
      "61/63 [============================>.] - ETA: 0s - loss: 0.1121 - root_mean_squared_error: 0.1580\n",
      "Epoch 28: val_loss did not improve from 0.11566\n",
      "63/63 [==============================] - 1s 24ms/step - loss: 0.1119 - root_mean_squared_error: 0.1578 - val_loss: 0.1158 - val_root_mean_squared_error: 0.1636 - lr: 1.0000e-04\n",
      "Epoch 29/300\n",
      "61/63 [============================>.] - ETA: 0s - loss: 0.1112 - root_mean_squared_error: 0.1571\n",
      "Epoch 29: val_loss improved from 0.11566 to 0.11561, saving model to /disk1/jupyter/smhan/ASI-revised/output_norm/models/kc/asi_kc_weights.hdf5\n",
      "63/63 [==============================] - 2s 24ms/step - loss: 0.1113 - root_mean_squared_error: 0.1570 - val_loss: 0.1156 - val_root_mean_squared_error: 0.1634 - lr: 1.0000e-04\n",
      "Epoch 30/300\n",
      "61/63 [============================>.] - ETA: 0s - loss: 0.1112 - root_mean_squared_error: 0.1570\n",
      "Epoch 30: val_loss did not improve from 0.11561\n",
      "63/63 [==============================] - 1s 23ms/step - loss: 0.1114 - root_mean_squared_error: 0.1573 - val_loss: 0.1164 - val_root_mean_squared_error: 0.1642 - lr: 1.0000e-04\n",
      "Epoch 31/300\n",
      "61/63 [============================>.] - ETA: 0s - loss: 0.1110 - root_mean_squared_error: 0.1570\n",
      "Epoch 31: val_loss improved from 0.11561 to 0.11532, saving model to /disk1/jupyter/smhan/ASI-revised/output_norm/models/kc/asi_kc_weights.hdf5\n",
      "63/63 [==============================] - 2s 26ms/step - loss: 0.1108 - root_mean_squared_error: 0.1567 - val_loss: 0.1153 - val_root_mean_squared_error: 0.1634 - lr: 1.0000e-05\n",
      "Epoch 32/300\n",
      "61/63 [============================>.] - ETA: 0s - loss: 0.1103 - root_mean_squared_error: 0.1563\n",
      "Epoch 32: val_loss did not improve from 0.11532\n",
      "63/63 [==============================] - 2s 26ms/step - loss: 0.1105 - root_mean_squared_error: 0.1565 - val_loss: 0.1153 - val_root_mean_squared_error: 0.1634 - lr: 1.0000e-05\n",
      "Epoch 33/300\n",
      "61/63 [============================>.] - ETA: 0s - loss: 0.1101 - root_mean_squared_error: 0.1559\n",
      "Epoch 33: val_loss did not improve from 0.11532\n",
      "63/63 [==============================] - 2s 25ms/step - loss: 0.1105 - root_mean_squared_error: 0.1565 - val_loss: 0.1154 - val_root_mean_squared_error: 0.1634 - lr: 1.0000e-05\n",
      "Epoch 34/300\n",
      "61/63 [============================>.] - ETA: 0s - loss: 0.1107 - root_mean_squared_error: 0.1569\n",
      "Epoch 34: val_loss improved from 0.11532 to 0.11532, saving model to /disk1/jupyter/smhan/ASI-revised/output_norm/models/kc/asi_kc_weights.hdf5\n",
      "63/63 [==============================] - 2s 25ms/step - loss: 0.1104 - root_mean_squared_error: 0.1565 - val_loss: 0.1153 - val_root_mean_squared_error: 0.1634 - lr: 1.0000e-05\n",
      "Epoch 35/300\n",
      "61/63 [============================>.] - ETA: 0s - loss: 0.1103 - root_mean_squared_error: 0.1564\n",
      "Epoch 35: val_loss improved from 0.11532 to 0.11527, saving model to /disk1/jupyter/smhan/ASI-revised/output_norm/models/kc/asi_kc_weights.hdf5\n",
      "63/63 [==============================] - 2s 27ms/step - loss: 0.1104 - root_mean_squared_error: 0.1565 - val_loss: 0.1153 - val_root_mean_squared_error: 0.1634 - lr: 1.0000e-05\n",
      "Epoch 36/300\n",
      "61/63 [============================>.] - ETA: 0s - loss: 0.1104 - root_mean_squared_error: 0.1565\n",
      "Epoch 36: val_loss did not improve from 0.11527\n",
      "63/63 [==============================] - 2s 26ms/step - loss: 0.1104 - root_mean_squared_error: 0.1565 - val_loss: 0.1153 - val_root_mean_squared_error: 0.1634 - lr: 1.0000e-05\n",
      "Epoch 37/300\n",
      "63/63 [==============================] - ETA: 0s - loss: 0.1103 - root_mean_squared_error: 0.1565\n",
      "Epoch 37: val_loss did not improve from 0.11527\n",
      "63/63 [==============================] - 2s 26ms/step - loss: 0.1103 - root_mean_squared_error: 0.1565 - val_loss: 0.1153 - val_root_mean_squared_error: 0.1634 - lr: 1.0000e-06\n",
      "Epoch 38/300\n",
      "61/63 [============================>.] - ETA: 0s - loss: 0.1103 - root_mean_squared_error: 0.1564\n",
      "Epoch 38: val_loss did not improve from 0.11527\n",
      "63/63 [==============================] - 2s 26ms/step - loss: 0.1103 - root_mean_squared_error: 0.1564 - val_loss: 0.1153 - val_root_mean_squared_error: 0.1634 - lr: 1.0000e-06\n",
      "Epoch 39/300\n",
      "61/63 [============================>.] - ETA: 0s - loss: 0.1102 - root_mean_squared_error: 0.1562\n",
      "Epoch 39: val_loss did not improve from 0.11527\n",
      "63/63 [==============================] - 2s 26ms/step - loss: 0.1103 - root_mean_squared_error: 0.1564 - val_loss: 0.1153 - val_root_mean_squared_error: 0.1634 - lr: 1.0000e-06\n",
      "Epoch 40/300\n",
      "61/63 [============================>.] - ETA: 0s - loss: 0.1104 - root_mean_squared_error: 0.1567\n",
      "Epoch 40: val_loss did not improve from 0.11527\n",
      "63/63 [==============================] - 2s 25ms/step - loss: 0.1103 - root_mean_squared_error: 0.1564 - val_loss: 0.1153 - val_root_mean_squared_error: 0.1634 - lr: 1.0000e-06\n",
      "Epoch 41/300\n",
      "61/63 [============================>.] - ETA: 0s - loss: 0.1104 - root_mean_squared_error: 0.1564\n",
      "Epoch 41: val_loss did not improve from 0.11527\n",
      "63/63 [==============================] - 2s 26ms/step - loss: 0.1103 - root_mean_squared_error: 0.1564 - val_loss: 0.1153 - val_root_mean_squared_error: 0.1634 - lr: 1.0000e-06\n",
      "Epoch 42/300\n",
      "61/63 [============================>.] - ETA: 0s - loss: 0.1103 - root_mean_squared_error: 0.1563\n",
      "Epoch 42: val_loss did not improve from 0.11527\n",
      "63/63 [==============================] - 2s 26ms/step - loss: 0.1103 - root_mean_squared_error: 0.1564 - val_loss: 0.1153 - val_root_mean_squared_error: 0.1634 - lr: 1.0000e-07\n",
      "Epoch 43/300\n",
      "61/63 [============================>.] - ETA: 0s - loss: 0.1103 - root_mean_squared_error: 0.1563\n",
      "Epoch 43: val_loss did not improve from 0.11527\n",
      "63/63 [==============================] - 2s 25ms/step - loss: 0.1103 - root_mean_squared_error: 0.1564 - val_loss: 0.1153 - val_root_mean_squared_error: 0.1634 - lr: 1.0000e-07\n"
     ]
    },
    {
     "name": "stdout",
     "output_type": "stream",
     "text": [
      "Epoch 44/300\n",
      "63/63 [==============================] - ETA: 0s - loss: 0.1103 - root_mean_squared_error: 0.1564\n",
      "Epoch 44: val_loss did not improve from 0.11527\n",
      "63/63 [==============================] - 2s 26ms/step - loss: 0.1103 - root_mean_squared_error: 0.1564 - val_loss: 0.1153 - val_root_mean_squared_error: 0.1634 - lr: 1.0000e-07\n",
      "Epoch 45/300\n",
      "61/63 [============================>.] - ETA: 0s - loss: 0.1102 - root_mean_squared_error: 0.1563\n",
      "Epoch 45: val_loss did not improve from 0.11527\n",
      "63/63 [==============================] - 2s 25ms/step - loss: 0.1103 - root_mean_squared_error: 0.1564 - val_loss: 0.1153 - val_root_mean_squared_error: 0.1634 - lr: 1.0000e-07\n",
      "136/136 [==============================] - 2s 8ms/step\n",
      "541/541 [==============================] - 4s 8ms/step\n",
      "70/70 [==============================] - 1s 12ms/step\n",
      "18/18 [==============================] - 1s 13ms/step\n",
      "70/70 [==============================] - 2s 13ms/step\n",
      "18/18 [==============================] - 1s 13ms/step\n"
     ]
    }
   ],
   "source": [
    "dataset,\\\n",
    "result,\\\n",
    "fit,\\\n",
    "embedded_train,\\\n",
    "embedded_test,\\\n",
    "predict_regression_train,\\\n",
    "predict_regression_test = spatial()"
   ]
  },
  {
   "cell_type": "code",
   "execution_count": 6,
   "metadata": {
    "scrolled": true
   },
   "outputs": [
    {
     "name": "stdout",
     "output_type": "stream",
     "text": [
      "################# Test ##########################\n",
      "MALE test:.... 0.11781564577323778\n",
      "RMSE test:.... 133543.23990890238\n",
      "MAPE test:.... 8.396660384421539\n",
      "################# Train ##########################\n",
      "MALE train:.... 0.11083284746993478\n",
      "RMSE train:.... 105195.2308606203\n",
      "MAPE train:.... 7.845299582277461\n"
     ]
    }
   ],
   "source": [
    "print('################# Test ##########################')\n",
    "print('MALE test:.... {}'.format(result[0]))\n",
    "print('RMSE test:.... {}'.format(result[1]))\n",
    "print('MAPE test:.... {}'.format(result[2]))\n",
    "print('################# Train ##########################')\n",
    "print('MALE train:.... {}'.format(result[3]))\n",
    "print('RMSE train:.... {}'.format(result[4]))\n",
    "print('MAPE train:.... {}'.format(result[5]))"
   ]
  },
  {
   "cell_type": "code",
   "execution_count": 7,
   "metadata": {},
   "outputs": [],
   "source": [
    "from sklearn.metrics import r2_score\n",
    "import numpy as np\n",
    "\n",
    "# metric\n",
    "def metric(pred, label):\n",
    "    assert label.shape == pred.shape\n",
    "    \n",
    "    with np.errstate(divide = 'ignore', invalid = 'ignore'):\n",
    "        mask = np.not_equal(label, 0)\n",
    "        mask = mask.astype(np.float32)\n",
    "        mask /= np.mean(mask)\n",
    "        male = np.abs(np.subtract(np.log(pred), np.log(label))).astype(np.float32)\n",
    "        male = np.nan_to_num(male * mask)\n",
    "        male = np.mean(male)\n",
    "        mae = np.abs(np.subtract(pred, label)).astype(np.float32)\n",
    "        rmse = np.square(mae)\n",
    "        mape = np.divide(mae, label)\n",
    "        mae = np.nan_to_num(mae * mask)\n",
    "        mae = np.mean(mae)\n",
    "        rmse = np.nan_to_num(rmse * mask)\n",
    "        rmse = np.sqrt(np.mean(rmse))\n",
    "        mape = np.nan_to_num(mape * mask)\n",
    "        mape = np.median(mape) # np.mean(mape) -- author leverages median\n",
    "    return male, rmse, mape\n",
    "\n"
   ]
  },
  {
   "cell_type": "code",
   "execution_count": 8,
   "metadata": {},
   "outputs": [
    {
     "data": {
      "text/plain": [
       "(0.11781564, 133543.23, 0.08396660384421512)"
      ]
     },
     "execution_count": 8,
     "metadata": {},
     "output_type": "execute_result"
    }
   ],
   "source": [
    "y_label = np.exp(dataset.y_test)\n",
    "y_pred = np.exp(result[6].flatten())\n",
    "metric(y_pred, y_label) # should be same value"
   ]
  },
  {
   "cell_type": "code",
   "execution_count": 9,
   "metadata": {},
   "outputs": [
    {
     "data": {
      "text/plain": [
       "<matplotlib.collections.PathCollection at 0x7f8fbd2c33d0>"
      ]
     },
     "execution_count": 9,
     "metadata": {},
     "output_type": "execute_result"
    },
    {
     "data": {
      "image/png": "[encoded data removed]",
      "text/plain": [
       "<Figure size 800x400 with 1 Axes>"
      ]
     },
     "metadata": {},
     "output_type": "display_data"
    }
   ],
   "source": [
    "plt.scatter(y_label, y_pred)"
   ]
  },
  {
   "cell_type": "code",
   "execution_count": null,
   "metadata": {},
   "outputs": [],
   "source": []
  }
 ],
 "metadata": {
  "kernelspec": {
   "display_name": "TF2",
   "language": "python",
   "name": "tf2"
  },
  "language_info": {
   "codemirror_mode": {
    "name": "ipython",
    "version": 3
   },
   "file_extension": ".py",
   "mimetype": "text/x-python",
   "name": "python",
   "nbconvert_exporter": "python",
   "pygments_lexer": "ipython3",
   "version": "3.10.8"
  }
 },
 "nbformat": 4,
 "nbformat_minor": 4
}
