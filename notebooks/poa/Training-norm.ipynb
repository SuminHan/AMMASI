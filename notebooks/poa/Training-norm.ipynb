{
 "cells": [
  {
   "cell_type": "code",
   "execution_count": 1,
   "metadata": {},
   "outputs": [],
   "source": [
    "import os\n",
    "os.environ[\"CUDA_VISIBLE_DEVICES\"]= '2'"
   ]
  },
  {
   "cell_type": "code",
   "execution_count": 2,
   "metadata": {
    "scrolled": true
   },
   "outputs": [
    {
     "name": "stderr",
     "output_type": "stream",
     "text": [
      "2023-11-04 13:25:12.752684: I tensorflow/core/platform/cpu_feature_guard.cc:193] This TensorFlow binary is optimized with oneAPI Deep Neural Network Library (oneDNN) to use the following CPU instructions in performance-critical operations:  SSE4.1 SSE4.2 AVX AVX2 FMA\n",
      "To enable them in other operations, rebuild TensorFlow with the appropriate compiler flags.\n"
     ]
    }
   ],
   "source": [
    "%matplotlib inline\n",
    "\n",
    "import sys\n",
    "sys.path.append(\"../../\")\n",
    "\n",
    "from train_model_norm import train\n",
    "\n",
    "from sklearn.linear_model import LinearRegression\n",
    "from yellowbrick.regressor import ResidualsPlot, PredictionError\n",
    "\n",
    "import seaborn as sns\n",
    "import matplotlib.pyplot as plt\n",
    "\n",
    "from matplotlib import rcParams\n",
    "rcParams['figure.figsize'] = (8, 4)\n",
    "rcParams['figure.dpi'] = 100\n",
    "rcParams['font.size'] = 8\n",
    "rcParams['font.family'] = 'sans-serif'\n",
    "rcParams['axes.facecolor'] = '#ffffff'\n",
    "rcParams['lines.linewidth'] = 2.0"
   ]
  },
  {
   "cell_type": "code",
   "execution_count": 3,
   "metadata": {
    "scrolled": true
   },
   "outputs": [],
   "source": [
    "hyperparameter={\n",
    "\"num_nearest\":60,\n",
    "\"sigma\":10,\n",
    "\"learning_rate\":0.008,\n",
    "\"batch_size\":250,\n",
    "\"num_neuron\":15,\n",
    "\"num_layers\":2,\n",
    "\"size_embedded\":50,\n",
    "\"num_nearest_geo\":30,\n",
    "\"num_nearest_eucli\":30,\n",
    "\"id_dataset\":'poa',\n",
    "\"epochs\":300,\n",
    "\"optimier\":'adam',\n",
    "\"validation_split\":0.1,\n",
    "\"label\":'asi_poa',\n",
    "\"early_stopping\": False,\n",
    "\"graph_label\":'matrix',\n",
    "}"
   ]
  },
  {
   "cell_type": "markdown",
   "metadata": {},
   "source": [
    "# Model"
   ]
  },
  {
   "cell_type": "code",
   "execution_count": 4,
   "metadata": {},
   "outputs": [],
   "source": [
    "spatial = train(**hyperparameter)"
   ]
  },
  {
   "cell_type": "code",
   "execution_count": 5,
   "metadata": {},
   "outputs": [
    {
     "name": "stderr",
     "output_type": "stream",
     "text": [
      "2023-11-04 13:25:32.012984: E tensorflow/compiler/xla/stream_executor/cuda/cuda_driver.cc:267] failed call to cuInit: CUDA_ERROR_COMPAT_NOT_SUPPORTED_ON_DEVICE: forward compatibility was attempted on non supported HW\n",
      "2023-11-04 13:25:32.013145: I tensorflow/compiler/xla/stream_executor/cuda/cuda_diagnostics.cc:169] retrieving CUDA diagnostic information for host: user-desktop\n",
      "2023-11-04 13:25:32.013186: I tensorflow/compiler/xla/stream_executor/cuda/cuda_diagnostics.cc:176] hostname: user-desktop\n",
      "2023-11-04 13:25:32.013856: I tensorflow/compiler/xla/stream_executor/cuda/cuda_diagnostics.cc:200] libcuda reported version is: 525.147.5\n",
      "2023-11-04 13:25:32.014047: I tensorflow/compiler/xla/stream_executor/cuda/cuda_diagnostics.cc:204] kernel reported version is: 525.125.6\n",
      "2023-11-04 13:25:32.014085: E tensorflow/compiler/xla/stream_executor/cuda/cuda_diagnostics.cc:313] kernel version 525.125.6 does not match DSO version 525.147.5 -- cannot find working devices in this configuration\n",
      "2023-11-04 13:25:32.016727: I tensorflow/core/platform/cpu_feature_guard.cc:193] This TensorFlow binary is optimized with oneAPI Deep Neural Network Library (oneDNN) to use the following CPU instructions in performance-critical operations:  SSE4.1 SSE4.2 AVX AVX2 FMA\n",
      "To enable them in other operations, rebuild TensorFlow with the appropriate compiler flags.\n"
     ]
    },
    {
     "name": "stdout",
     "output_type": "stream",
     "text": [
      "WARNING:tensorflow:From /home/smhan/.conda/envs/TF2/lib/python3.10/site-packages/tensorflow/python/autograph/pyct/static_analysis/liveness.py:83: Analyzer.lamba_check (from tensorflow.python.autograph.pyct.static_analysis.liveness) is deprecated and will be removed after 2023-09-23.\n",
      "Instructions for updating:\n",
      "Lambda fuctions will be no more assumed to be used in the statement where they are used, or at least in the same block. https://github.com/tensorflow/tensorflow/issues/56089\n",
      "Epoch 1/300\n",
      "42/45 [===========================>..] - ETA: 0s - loss: 3.5909 - root_mean_squared_error: 5.4977\n",
      "Epoch 1: val_loss improved from inf to 0.52114, saving model to /disk1/jupyter/smhan/ASI-revised/output_norm/models/poa/asi_poa_weights.hdf5\n",
      "45/45 [==============================] - 9s 52ms/step - loss: 3.4357 - root_mean_squared_error: 5.3580 - val_loss: 0.5211 - val_root_mean_squared_error: 0.6659 - lr: 0.0080\n",
      "Epoch 2/300\n",
      "45/45 [==============================] - ETA: 0s - loss: 0.3647 - root_mean_squared_error: 0.4730\n",
      "Epoch 2: val_loss improved from 0.52114 to 0.28174, saving model to /disk1/jupyter/smhan/ASI-revised/output_norm/models/poa/asi_poa_weights.hdf5\n",
      "45/45 [==============================] - 1s 20ms/step - loss: 0.3647 - root_mean_squared_error: 0.4730 - val_loss: 0.2817 - val_root_mean_squared_error: 0.3570 - lr: 0.0080\n",
      "Epoch 3/300\n",
      "45/45 [==============================] - ETA: 0s - loss: 0.2483 - root_mean_squared_error: 0.3135\n",
      "Epoch 3: val_loss improved from 0.28174 to 0.23619, saving model to /disk1/jupyter/smhan/ASI-revised/output_norm/models/poa/asi_poa_weights.hdf5\n",
      "45/45 [==============================] - 1s 20ms/step - loss: 0.2483 - root_mean_squared_error: 0.3135 - val_loss: 0.2362 - val_root_mean_squared_error: 0.2973 - lr: 0.0080\n",
      "Epoch 4/300\n",
      "45/45 [==============================] - ETA: 0s - loss: 0.2247 - root_mean_squared_error: 0.2847\n",
      "Epoch 4: val_loss improved from 0.23619 to 0.21756, saving model to /disk1/jupyter/smhan/ASI-revised/output_norm/models/poa/asi_poa_weights.hdf5\n",
      "45/45 [==============================] - 1s 20ms/step - loss: 0.2247 - root_mean_squared_error: 0.2847 - val_loss: 0.2176 - val_root_mean_squared_error: 0.2741 - lr: 0.0080\n",
      "Epoch 5/300\n",
      "44/45 [============================>.] - ETA: 0s - loss: 0.2155 - root_mean_squared_error: 0.2731\n",
      "Epoch 5: val_loss improved from 0.21756 to 0.20914, saving model to /disk1/jupyter/smhan/ASI-revised/output_norm/models/poa/asi_poa_weights.hdf5\n",
      "45/45 [==============================] - 1s 21ms/step - loss: 0.2155 - root_mean_squared_error: 0.2731 - val_loss: 0.2091 - val_root_mean_squared_error: 0.2660 - lr: 0.0080\n",
      "Epoch 6/300\n",
      "45/45 [==============================] - ETA: 0s - loss: 0.1994 - root_mean_squared_error: 0.2557\n",
      "Epoch 6: val_loss improved from 0.20914 to 0.20691, saving model to /disk1/jupyter/smhan/ASI-revised/output_norm/models/poa/asi_poa_weights.hdf5\n",
      "45/45 [==============================] - 1s 20ms/step - loss: 0.1994 - root_mean_squared_error: 0.2557 - val_loss: 0.2069 - val_root_mean_squared_error: 0.2629 - lr: 0.0080\n",
      "Epoch 7/300\n",
      "45/45 [==============================] - ETA: 0s - loss: 0.1832 - root_mean_squared_error: 0.2399\n",
      "Epoch 7: val_loss improved from 0.20691 to 0.17504, saving model to /disk1/jupyter/smhan/ASI-revised/output_norm/models/poa/asi_poa_weights.hdf5\n",
      "45/45 [==============================] - 1s 20ms/step - loss: 0.1832 - root_mean_squared_error: 0.2399 - val_loss: 0.1750 - val_root_mean_squared_error: 0.2276 - lr: 0.0080\n",
      "Epoch 8/300\n",
      "45/45 [==============================] - ETA: 0s - loss: 0.1911 - root_mean_squared_error: 0.2487\n",
      "Epoch 8: val_loss improved from 0.17504 to 0.17335, saving model to /disk1/jupyter/smhan/ASI-revised/output_norm/models/poa/asi_poa_weights.hdf5\n",
      "45/45 [==============================] - 1s 20ms/step - loss: 0.1911 - root_mean_squared_error: 0.2487 - val_loss: 0.1734 - val_root_mean_squared_error: 0.2259 - lr: 0.0080\n",
      "Epoch 9/300\n",
      "45/45 [==============================] - ETA: 0s - loss: 0.1757 - root_mean_squared_error: 0.2330\n",
      "Epoch 9: val_loss did not improve from 0.17335\n",
      "45/45 [==============================] - 1s 19ms/step - loss: 0.1757 - root_mean_squared_error: 0.2330 - val_loss: 0.1765 - val_root_mean_squared_error: 0.2303 - lr: 0.0080\n",
      "Epoch 10/300\n",
      "44/45 [============================>.] - ETA: 0s - loss: 0.1696 - root_mean_squared_error: 0.2289\n",
      "Epoch 10: val_loss improved from 0.17335 to 0.16838, saving model to /disk1/jupyter/smhan/ASI-revised/output_norm/models/poa/asi_poa_weights.hdf5\n",
      "45/45 [==============================] - 1s 21ms/step - loss: 0.1696 - root_mean_squared_error: 0.2290 - val_loss: 0.1684 - val_root_mean_squared_error: 0.2235 - lr: 0.0080\n",
      "Epoch 11/300\n",
      "45/45 [==============================] - ETA: 0s - loss: 0.1729 - root_mean_squared_error: 0.2312\n",
      "Epoch 11: val_loss improved from 0.16838 to 0.16027, saving model to /disk1/jupyter/smhan/ASI-revised/output_norm/models/poa/asi_poa_weights.hdf5\n",
      "45/45 [==============================] - 1s 21ms/step - loss: 0.1729 - root_mean_squared_error: 0.2312 - val_loss: 0.1603 - val_root_mean_squared_error: 0.2143 - lr: 0.0080\n",
      "Epoch 12/300\n",
      "44/45 [============================>.] - ETA: 0s - loss: 0.1685 - root_mean_squared_error: 0.2277\n",
      "Epoch 12: val_loss improved from 0.16027 to 0.15978, saving model to /disk1/jupyter/smhan/ASI-revised/output_norm/models/poa/asi_poa_weights.hdf5\n",
      "45/45 [==============================] - 1s 22ms/step - loss: 0.1685 - root_mean_squared_error: 0.2276 - val_loss: 0.1598 - val_root_mean_squared_error: 0.2126 - lr: 0.0080\n",
      "Epoch 13/300\n",
      "45/45 [==============================] - ETA: 0s - loss: 0.1620 - root_mean_squared_error: 0.2209\n",
      "Epoch 13: val_loss did not improve from 0.15978\n",
      "45/45 [==============================] - 1s 20ms/step - loss: 0.1620 - root_mean_squared_error: 0.2209 - val_loss: 0.1629 - val_root_mean_squared_error: 0.2162 - lr: 0.0080\n",
      "Epoch 14/300\n",
      "43/45 [===========================>..] - ETA: 0s - loss: 0.1795 - root_mean_squared_error: 0.2379\n",
      "Epoch 14: val_loss did not improve from 0.15978\n",
      "45/45 [==============================] - 1s 20ms/step - loss: 0.1798 - root_mean_squared_error: 0.2381 - val_loss: 0.1900 - val_root_mean_squared_error: 0.2422 - lr: 0.0080\n",
      "Epoch 15/300\n",
      "45/45 [==============================] - ETA: 0s - loss: 0.1696 - root_mean_squared_error: 0.2277\n",
      "Epoch 15: val_loss did not improve from 0.15978\n",
      "45/45 [==============================] - 1s 19ms/step - loss: 0.1696 - root_mean_squared_error: 0.2277 - val_loss: 0.1721 - val_root_mean_squared_error: 0.2236 - lr: 0.0080\n",
      "Epoch 16/300\n",
      "43/45 [===========================>..] - ETA: 0s - loss: 0.1639 - root_mean_squared_error: 0.2222\n",
      "Epoch 16: val_loss did not improve from 0.15978\n",
      "45/45 [==============================] - 1s 20ms/step - loss: 0.1643 - root_mean_squared_error: 0.2225 - val_loss: 0.1602 - val_root_mean_squared_error: 0.2135 - lr: 0.0080\n",
      "Epoch 17/300\n",
      "42/45 [===========================>..] - ETA: 0s - loss: 0.1572 - root_mean_squared_error: 0.2161\n",
      "Epoch 17: val_loss did not improve from 0.15978\n",
      "45/45 [==============================] - 1s 22ms/step - loss: 0.1579 - root_mean_squared_error: 0.2170 - val_loss: 0.1618 - val_root_mean_squared_error: 0.2154 - lr: 0.0080\n",
      "Epoch 18/300\n",
      "43/45 [===========================>..] - ETA: 0s - loss: 0.1521 - root_mean_squared_error: 0.2123\n",
      "Epoch 18: val_loss improved from 0.15978 to 0.15430, saving model to /disk1/jupyter/smhan/ASI-revised/output_norm/models/poa/asi_poa_weights.hdf5\n",
      "45/45 [==============================] - 1s 23ms/step - loss: 0.1517 - root_mean_squared_error: 0.2119 - val_loss: 0.1543 - val_root_mean_squared_error: 0.2085 - lr: 8.0000e-04\n",
      "Epoch 19/300\n",
      "43/45 [===========================>..] - ETA: 0s - loss: 0.1506 - root_mean_squared_error: 0.2115\n",
      "Epoch 19: val_loss did not improve from 0.15430\n",
      "45/45 [==============================] - 1s 21ms/step - loss: 0.1505 - root_mean_squared_error: 0.2112 - val_loss: 0.1573 - val_root_mean_squared_error: 0.2117 - lr: 8.0000e-04\n",
      "Epoch 20/300\n",
      "44/45 [============================>.] - ETA: 0s - loss: 0.1510 - root_mean_squared_error: 0.2117\n",
      "Epoch 20: val_loss improved from 0.15430 to 0.15418, saving model to /disk1/jupyter/smhan/ASI-revised/output_norm/models/poa/asi_poa_weights.hdf5\n"
     ]
    },
    {
     "name": "stdout",
     "output_type": "stream",
     "text": [
      "45/45 [==============================] - 1s 24ms/step - loss: 0.1509 - root_mean_squared_error: 0.2116 - val_loss: 0.1542 - val_root_mean_squared_error: 0.2084 - lr: 8.0000e-04\n",
      "Epoch 21/300\n",
      "43/45 [===========================>..] - ETA: 0s - loss: 0.1497 - root_mean_squared_error: 0.2109\n",
      "Epoch 21: val_loss improved from 0.15418 to 0.15348, saving model to /disk1/jupyter/smhan/ASI-revised/output_norm/models/poa/asi_poa_weights.hdf5\n",
      "45/45 [==============================] - 1s 23ms/step - loss: 0.1496 - root_mean_squared_error: 0.2106 - val_loss: 0.1535 - val_root_mean_squared_error: 0.2080 - lr: 8.0000e-04\n",
      "Epoch 22/300\n",
      "44/45 [============================>.] - ETA: 0s - loss: 0.1494 - root_mean_squared_error: 0.2107\n",
      "Epoch 22: val_loss did not improve from 0.15348\n",
      "45/45 [==============================] - 1s 23ms/step - loss: 0.1494 - root_mean_squared_error: 0.2106 - val_loss: 0.1549 - val_root_mean_squared_error: 0.2095 - lr: 8.0000e-04\n",
      "Epoch 23/300\n",
      "44/45 [============================>.] - ETA: 0s - loss: 0.1498 - root_mean_squared_error: 0.2109\n",
      "Epoch 23: val_loss did not improve from 0.15348\n",
      "45/45 [==============================] - 1s 22ms/step - loss: 0.1499 - root_mean_squared_error: 0.2109 - val_loss: 0.1543 - val_root_mean_squared_error: 0.2088 - lr: 8.0000e-04\n",
      "Epoch 24/300\n",
      "44/45 [============================>.] - ETA: 0s - loss: 0.1490 - root_mean_squared_error: 0.2102\n",
      "Epoch 24: val_loss did not improve from 0.15348\n",
      "45/45 [==============================] - 1s 23ms/step - loss: 0.1490 - root_mean_squared_error: 0.2102 - val_loss: 0.1536 - val_root_mean_squared_error: 0.2083 - lr: 8.0000e-04\n",
      "Epoch 25/300\n",
      "44/45 [============================>.] - ETA: 0s - loss: 0.1491 - root_mean_squared_error: 0.2104\n",
      "Epoch 25: val_loss did not improve from 0.15348\n",
      "45/45 [==============================] - 1s 22ms/step - loss: 0.1490 - root_mean_squared_error: 0.2102 - val_loss: 0.1541 - val_root_mean_squared_error: 0.2085 - lr: 8.0000e-04\n",
      "Epoch 26/300\n",
      "44/45 [============================>.] - ETA: 0s - loss: 0.1490 - root_mean_squared_error: 0.2103\n",
      "Epoch 26: val_loss did not improve from 0.15348\n",
      "45/45 [==============================] - 1s 22ms/step - loss: 0.1488 - root_mean_squared_error: 0.2101 - val_loss: 0.1538 - val_root_mean_squared_error: 0.2087 - lr: 8.0000e-04\n",
      "Epoch 27/300\n",
      "43/45 [===========================>..] - ETA: 0s - loss: 0.1483 - root_mean_squared_error: 0.2097\n",
      "Epoch 27: val_loss improved from 0.15348 to 0.15335, saving model to /disk1/jupyter/smhan/ASI-revised/output_norm/models/poa/asi_poa_weights.hdf5\n",
      "45/45 [==============================] - 1s 25ms/step - loss: 0.1481 - root_mean_squared_error: 0.2096 - val_loss: 0.1534 - val_root_mean_squared_error: 0.2082 - lr: 8.0000e-05\n",
      "Epoch 28/300\n",
      "44/45 [============================>.] - ETA: 0s - loss: 0.1481 - root_mean_squared_error: 0.2095\n",
      "Epoch 28: val_loss did not improve from 0.15335\n",
      "45/45 [==============================] - 2s 49ms/step - loss: 0.1480 - root_mean_squared_error: 0.2094 - val_loss: 0.1534 - val_root_mean_squared_error: 0.2081 - lr: 8.0000e-05\n",
      "Epoch 29/300\n",
      "42/45 [===========================>..] - ETA: 0s - loss: 0.1481 - root_mean_squared_error: 0.2099\n",
      "Epoch 29: val_loss improved from 0.15335 to 0.15306, saving model to /disk1/jupyter/smhan/ASI-revised/output_norm/models/poa/asi_poa_weights.hdf5\n",
      "45/45 [==============================] - 1s 25ms/step - loss: 0.1480 - root_mean_squared_error: 0.2094 - val_loss: 0.1531 - val_root_mean_squared_error: 0.2079 - lr: 8.0000e-05\n",
      "Epoch 30/300\n",
      "43/45 [===========================>..] - ETA: 0s - loss: 0.1480 - root_mean_squared_error: 0.2094\n",
      "Epoch 30: val_loss did not improve from 0.15306\n",
      "45/45 [==============================] - 1s 21ms/step - loss: 0.1480 - root_mean_squared_error: 0.2095 - val_loss: 0.1531 - val_root_mean_squared_error: 0.2079 - lr: 8.0000e-05\n",
      "Epoch 31/300\n",
      "42/45 [===========================>..] - ETA: 0s - loss: 0.1483 - root_mean_squared_error: 0.2098\n",
      "Epoch 31: val_loss did not improve from 0.15306\n",
      "45/45 [==============================] - 1s 22ms/step - loss: 0.1480 - root_mean_squared_error: 0.2095 - val_loss: 0.1532 - val_root_mean_squared_error: 0.2080 - lr: 8.0000e-05\n",
      "Epoch 32/300\n",
      "45/45 [==============================] - ETA: 0s - loss: 0.1479 - root_mean_squared_error: 0.2095\n",
      "Epoch 32: val_loss did not improve from 0.15306\n",
      "45/45 [==============================] - 1s 25ms/step - loss: 0.1479 - root_mean_squared_error: 0.2095 - val_loss: 0.1532 - val_root_mean_squared_error: 0.2080 - lr: 8.0000e-05\n",
      "Epoch 33/300\n",
      "43/45 [===========================>..] - ETA: 0s - loss: 0.1480 - root_mean_squared_error: 0.2094\n",
      "Epoch 33: val_loss did not improve from 0.15306\n",
      "45/45 [==============================] - 1s 25ms/step - loss: 0.1479 - root_mean_squared_error: 0.2094 - val_loss: 0.1533 - val_root_mean_squared_error: 0.2081 - lr: 8.0000e-05\n",
      "Epoch 34/300\n",
      "43/45 [===========================>..] - ETA: 0s - loss: 0.1478 - root_mean_squared_error: 0.2093\n",
      "Epoch 34: val_loss did not improve from 0.15306\n",
      "45/45 [==============================] - 1s 23ms/step - loss: 0.1480 - root_mean_squared_error: 0.2095 - val_loss: 0.1531 - val_root_mean_squared_error: 0.2079 - lr: 8.0000e-05\n",
      "Epoch 35/300\n",
      "43/45 [===========================>..] - ETA: 0s - loss: 0.1479 - root_mean_squared_error: 0.2097\n",
      "Epoch 35: val_loss did not improve from 0.15306\n",
      "45/45 [==============================] - 1s 24ms/step - loss: 0.1478 - root_mean_squared_error: 0.2093 - val_loss: 0.1531 - val_root_mean_squared_error: 0.2079 - lr: 8.0000e-06\n",
      "Epoch 36/300\n",
      "44/45 [============================>.] - ETA: 0s - loss: 0.1479 - root_mean_squared_error: 0.2096\n",
      "Epoch 36: val_loss did not improve from 0.15306\n",
      "45/45 [==============================] - 1s 23ms/step - loss: 0.1478 - root_mean_squared_error: 0.2093 - val_loss: 0.1531 - val_root_mean_squared_error: 0.2079 - lr: 8.0000e-06\n",
      "Epoch 37/300\n",
      "44/45 [============================>.] - ETA: 0s - loss: 0.1479 - root_mean_squared_error: 0.2096\n",
      "Epoch 37: val_loss did not improve from 0.15306\n",
      "45/45 [==============================] - 1s 24ms/step - loss: 0.1478 - root_mean_squared_error: 0.2093 - val_loss: 0.1531 - val_root_mean_squared_error: 0.2080 - lr: 8.0000e-06\n",
      "Epoch 38/300\n",
      "43/45 [===========================>..] - ETA: 0s - loss: 0.1482 - root_mean_squared_error: 0.2099\n",
      "Epoch 38: val_loss did not improve from 0.15306\n",
      "45/45 [==============================] - 1s 24ms/step - loss: 0.1478 - root_mean_squared_error: 0.2093 - val_loss: 0.1531 - val_root_mean_squared_error: 0.2080 - lr: 8.0000e-06\n",
      "Epoch 39/300\n",
      "45/45 [==============================] - ETA: 0s - loss: 0.1478 - root_mean_squared_error: 0.2093\n",
      "Epoch 39: val_loss did not improve from 0.15306\n",
      "45/45 [==============================] - 1s 23ms/step - loss: 0.1478 - root_mean_squared_error: 0.2093 - val_loss: 0.1531 - val_root_mean_squared_error: 0.2079 - lr: 8.0000e-06\n",
      "97/97 [==============================] - 2s 8ms/step\n",
      "385/385 [==============================] - 3s 7ms/step\n",
      "50/50 [==============================] - 1s 10ms/step\n",
      "13/13 [==============================] - 1s 11ms/step\n",
      "50/50 [==============================] - 1s 10ms/step\n",
      "13/13 [==============================] - 1s 11ms/step\n"
     ]
    }
   ],
   "source": [
    "dataset,\\\n",
    "result,\\\n",
    "fit,\\\n",
    "embedded_train,\\\n",
    "embedded_test,\\\n",
    "predict_regression_train,\\\n",
    "predict_regression_test = spatial()"
   ]
  },
  {
   "cell_type": "code",
   "execution_count": 6,
   "metadata": {},
   "outputs": [
    {
     "name": "stdout",
     "output_type": "stream",
     "text": [
      "################# Test ##########################\n",
      "MALE test:.... 0.15149648714467212\n",
      "RMSE test:.... 98615.2427479062\n",
      "MAPE test:.... 10.889183417792758\n",
      "################# Train ##########################\n",
      "MALE train:.... 0.14837384327238634\n",
      "RMSE train:.... 100254.89151302852\n",
      "MAPE train:.... 10.179247502195892\n"
     ]
    }
   ],
   "source": [
    "print('################# Test ##########################')\n",
    "print('MALE test:.... {}'.format(result[0]))\n",
    "print('RMSE test:.... {}'.format(result[1]))\n",
    "print('MAPE test:.... {}'.format(result[2]))\n",
    "print('################# Train ##########################')\n",
    "print('MALE train:.... {}'.format(result[3]))\n",
    "print('RMSE train:.... {}'.format(result[4]))\n",
    "print('MAPE train:.... {}'.format(result[5]))"
   ]
  },
  {
   "cell_type": "code",
   "execution_count": 7,
   "metadata": {},
   "outputs": [],
   "source": [
    "from sklearn.metrics import r2_score\n",
    "import numpy as np\n",
    "\n",
    "# metric\n",
    "def metric(pred, label):\n",
    "    assert label.shape == pred.shape\n",
    "    \n",
    "    with np.errstate(divide = 'ignore', invalid = 'ignore'):\n",
    "        mask = np.not_equal(label, 0)\n",
    "        mask = mask.astype(np.float32)\n",
    "        mask /= np.mean(mask)\n",
    "        male = np.abs(np.subtract(np.log(pred), np.log(label))).astype(np.float32)\n",
    "        male = np.nan_to_num(male * mask)\n",
    "        male = np.mean(male)\n",
    "        mae = np.abs(np.subtract(pred, label)).astype(np.float32)\n",
    "        rmse = np.square(mae)\n",
    "        mape = np.divide(mae, label)\n",
    "        mae = np.nan_to_num(mae * mask)\n",
    "        mae = np.mean(mae)\n",
    "        rmse = np.nan_to_num(rmse * mask)\n",
    "        rmse = np.sqrt(np.mean(rmse))\n",
    "        mape = np.nan_to_num(mape * mask)\n",
    "        mape = np.median(mape) # np.mean(mape) -- author leverages median\n",
    "    return male, rmse, mape\n",
    "\n"
   ]
  },
  {
   "cell_type": "code",
   "execution_count": 8,
   "metadata": {},
   "outputs": [
    {
     "data": {
      "text/plain": [
       "(0.15149648, 98615.24, 0.10889183417792794)"
      ]
     },
     "execution_count": 8,
     "metadata": {},
     "output_type": "execute_result"
    }
   ],
   "source": [
    "y_label = np.exp(dataset.y_test)\n",
    "y_pred = np.exp(result[6].flatten())\n",
    "metric(y_pred, y_label) # should be same value"
   ]
  },
  {
   "cell_type": "code",
   "execution_count": 9,
   "metadata": {},
   "outputs": [
    {
     "data": {
      "text/plain": [
       "<matplotlib.collections.PathCollection at 0x7fc4985705e0>"
      ]
     },
     "execution_count": 9,
     "metadata": {},
     "output_type": "execute_result"
    },
    {
     "data": {
      "image/png": "[encoded data removed]",
      "text/plain": [
       "<Figure size 800x400 with 1 Axes>"
      ]
     },
     "metadata": {},
     "output_type": "display_data"
    }
   ],
   "source": [
    "plt.scatter(y_label, y_pred)"
   ]
  }
 ],
 "metadata": {
  "kernelspec": {
   "display_name": "TF2",
   "language": "python",
   "name": "tf2"
  },
  "language_info": {
   "codemirror_mode": {
    "name": "ipython",
    "version": 3
   },
   "file_extension": ".py",
   "mimetype": "text/x-python",
   "name": "python",
   "nbconvert_exporter": "python",
   "pygments_lexer": "ipython3",
   "version": "3.10.8"
  }
 },
 "nbformat": 4,
 "nbformat_minor": 4
}
