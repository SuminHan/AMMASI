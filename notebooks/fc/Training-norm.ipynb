{
 "cells": [
  {
   "cell_type": "code",
   "execution_count": 1,
   "metadata": {},
   "outputs": [],
   "source": [
    "import os\n",
    "os.environ[\"CUDA_VISIBLE_DEVICES\"]= '0'"
   ]
  },
  {
   "cell_type": "code",
   "execution_count": 2,
   "metadata": {
    "scrolled": true
   },
   "outputs": [
    {
     "name": "stderr",
     "output_type": "stream",
     "text": [
      "2023-11-04 13:24:46.496482: I tensorflow/core/platform/cpu_feature_guard.cc:193] This TensorFlow binary is optimized with oneAPI Deep Neural Network Library (oneDNN) to use the following CPU instructions in performance-critical operations:  SSE4.1 SSE4.2 AVX AVX2 FMA\n",
      "To enable them in other operations, rebuild TensorFlow with the appropriate compiler flags.\n"
     ]
    }
   ],
   "source": [
    "%matplotlib inline\n",
    "\n",
    "import sys\n",
    "sys.path.append(\"../../\")\n",
    "\n",
    "from train_model_norm import train\n",
    "\n",
    "from sklearn.linear_model import LinearRegression\n",
    "from yellowbrick.regressor import ResidualsPlot, PredictionError\n",
    "\n",
    "import seaborn as sns\n",
    "import matplotlib.pyplot as plt\n",
    "\n",
    "from matplotlib import rcParams\n",
    "rcParams['figure.figsize'] = (8, 4)\n",
    "rcParams['figure.dpi'] = 100\n",
    "rcParams['font.size'] = 8\n",
    "rcParams['font.family'] = 'sans-serif'\n",
    "rcParams['axes.facecolor'] = '#ffffff'\n",
    "rcParams['lines.linewidth'] = 2.0"
   ]
  },
  {
   "cell_type": "code",
   "execution_count": 3,
   "metadata": {
    "scrolled": true
   },
   "outputs": [],
   "source": [
    "hyperparameter={\n",
    "\"num_nearest\":60,\n",
    "\"sigma\":10,\n",
    "\"learning_rate\":0.0019,\n",
    "\"batch_size\":250,\n",
    "\"num_neuron\":60,\n",
    "\"num_layers\":3,\n",
    "\"size_embedded\":50,\n",
    "\"num_nearest_geo\":20,\n",
    "\"num_nearest_eucli\":20,\n",
    "\"id_dataset\":'fc',\n",
    "\"epochs\":300,\n",
    "\"optimier\":'adam',\n",
    "\"validation_split\":0.1,\n",
    "\"label\":'asi_fc',\n",
    "\"early_stopping\": False,\n",
    "\"graph_label\":'matrix',\n",
    "}"
   ]
  },
  {
   "cell_type": "markdown",
   "metadata": {},
   "source": [
    "# Model"
   ]
  },
  {
   "cell_type": "code",
   "execution_count": 4,
   "metadata": {},
   "outputs": [],
   "source": [
    "spatial = train(**hyperparameter)"
   ]
  },
  {
   "cell_type": "code",
   "execution_count": 5,
   "metadata": {
    "scrolled": false
   },
   "outputs": [
    {
     "name": "stderr",
     "output_type": "stream",
     "text": [
      "2023-11-04 13:25:35.710853: E tensorflow/compiler/xla/stream_executor/cuda/cuda_driver.cc:267] failed call to cuInit: CUDA_ERROR_COMPAT_NOT_SUPPORTED_ON_DEVICE: forward compatibility was attempted on non supported HW\n",
      "2023-11-04 13:25:35.711129: I tensorflow/compiler/xla/stream_executor/cuda/cuda_diagnostics.cc:169] retrieving CUDA diagnostic information for host: user-desktop\n",
      "2023-11-04 13:25:35.711191: I tensorflow/compiler/xla/stream_executor/cuda/cuda_diagnostics.cc:176] hostname: user-desktop\n",
      "2023-11-04 13:25:35.712130: I tensorflow/compiler/xla/stream_executor/cuda/cuda_diagnostics.cc:200] libcuda reported version is: 525.147.5\n",
      "2023-11-04 13:25:35.712326: I tensorflow/compiler/xla/stream_executor/cuda/cuda_diagnostics.cc:204] kernel reported version is: 525.125.6\n",
      "2023-11-04 13:25:35.712379: E tensorflow/compiler/xla/stream_executor/cuda/cuda_diagnostics.cc:313] kernel version 525.125.6 does not match DSO version 525.147.5 -- cannot find working devices in this configuration\n",
      "2023-11-04 13:25:35.716042: I tensorflow/core/platform/cpu_feature_guard.cc:193] This TensorFlow binary is optimized with oneAPI Deep Neural Network Library (oneDNN) to use the following CPU instructions in performance-critical operations:  SSE4.1 SSE4.2 AVX AVX2 FMA\n",
      "To enable them in other operations, rebuild TensorFlow with the appropriate compiler flags.\n"
     ]
    },
    {
     "name": "stdout",
     "output_type": "stream",
     "text": [
      "WARNING:tensorflow:From /home/smhan/.conda/envs/TF2/lib/python3.10/site-packages/tensorflow/python/autograph/pyct/static_analysis/liveness.py:83: Analyzer.lamba_check (from tensorflow.python.autograph.pyct.static_analysis.liveness) is deprecated and will be removed after 2023-09-23.\n",
      "Instructions for updating:\n",
      "Lambda fuctions will be no more assumed to be used in the statement where they are used, or at least in the same block. https://github.com/tensorflow/tensorflow/issues/56089\n",
      "Epoch 1/300\n",
      "239/240 [============================>.] - ETA: 0s - loss: 0.8206 - root_mean_squared_error: 2.2522\n",
      "Epoch 1: val_loss improved from inf to 0.13642, saving model to /disk1/jupyter/smhan/ASI-revised/output_norm/models/fc/asi_fc_weights.hdf5\n",
      "240/240 [==============================] - 14s 28ms/step - loss: 0.8194 - root_mean_squared_error: 2.2502 - val_loss: 0.1364 - val_root_mean_squared_error: 0.1993 - lr: 0.0019\n",
      "Epoch 2/300\n",
      "239/240 [============================>.] - ETA: 0s - loss: 0.1326 - root_mean_squared_error: 0.2006\n",
      "Epoch 2: val_loss improved from 0.13642 to 0.12441, saving model to /disk1/jupyter/smhan/ASI-revised/output_norm/models/fc/asi_fc_weights.hdf5\n",
      "240/240 [==============================] - 6s 23ms/step - loss: 0.1325 - root_mean_squared_error: 0.2005 - val_loss: 0.1244 - val_root_mean_squared_error: 0.1845 - lr: 0.0019\n",
      "Epoch 3/300\n",
      "238/240 [============================>.] - ETA: 0s - loss: 0.1248 - root_mean_squared_error: 0.1897\n",
      "Epoch 3: val_loss improved from 0.12441 to 0.11306, saving model to /disk1/jupyter/smhan/ASI-revised/output_norm/models/fc/asi_fc_weights.hdf5\n",
      "240/240 [==============================] - 6s 24ms/step - loss: 0.1249 - root_mean_squared_error: 0.1897 - val_loss: 0.1131 - val_root_mean_squared_error: 0.1749 - lr: 0.0019\n",
      "Epoch 4/300\n",
      "238/240 [============================>.] - ETA: 0s - loss: 0.1152 - root_mean_squared_error: 0.1802\n",
      "Epoch 4: val_loss improved from 0.11306 to 0.10970, saving model to /disk1/jupyter/smhan/ASI-revised/output_norm/models/fc/asi_fc_weights.hdf5\n",
      "240/240 [==============================] - 6s 24ms/step - loss: 0.1152 - root_mean_squared_error: 0.1802 - val_loss: 0.1097 - val_root_mean_squared_error: 0.1714 - lr: 0.0019\n",
      "Epoch 5/300\n",
      "239/240 [============================>.] - ETA: 0s - loss: 0.1123 - root_mean_squared_error: 0.1769\n",
      "Epoch 5: val_loss did not improve from 0.10970\n",
      "240/240 [==============================] - 6s 24ms/step - loss: 0.1123 - root_mean_squared_error: 0.1769 - val_loss: 0.1099 - val_root_mean_squared_error: 0.1667 - lr: 0.0019\n",
      "Epoch 6/300\n",
      "239/240 [============================>.] - ETA: 0s - loss: 0.1143 - root_mean_squared_error: 0.1775\n",
      "Epoch 6: val_loss improved from 0.10970 to 0.10032, saving model to /disk1/jupyter/smhan/ASI-revised/output_norm/models/fc/asi_fc_weights.hdf5\n",
      "240/240 [==============================] - 7s 31ms/step - loss: 0.1143 - root_mean_squared_error: 0.1775 - val_loss: 0.1003 - val_root_mean_squared_error: 0.1586 - lr: 0.0019\n",
      "Epoch 7/300\n",
      "238/240 [============================>.] - ETA: 0s - loss: 0.1079 - root_mean_squared_error: 0.1716\n",
      "Epoch 7: val_loss did not improve from 0.10032\n",
      "240/240 [==============================] - 5s 22ms/step - loss: 0.1078 - root_mean_squared_error: 0.1715 - val_loss: 0.1027 - val_root_mean_squared_error: 0.1612 - lr: 0.0019\n",
      "Epoch 8/300\n",
      "238/240 [============================>.] - ETA: 0s - loss: 0.1080 - root_mean_squared_error: 0.1715\n",
      "Epoch 8: val_loss did not improve from 0.10032\n",
      "240/240 [==============================] - 5s 22ms/step - loss: 0.1080 - root_mean_squared_error: 0.1714 - val_loss: 0.1036 - val_root_mean_squared_error: 0.1606 - lr: 0.0019\n",
      "Epoch 9/300\n",
      "239/240 [============================>.] - ETA: 0s - loss: 0.1076 - root_mean_squared_error: 0.1701\n",
      "Epoch 9: val_loss did not improve from 0.10032\n",
      "240/240 [==============================] - 5s 21ms/step - loss: 0.1076 - root_mean_squared_error: 0.1703 - val_loss: 0.1114 - val_root_mean_squared_error: 0.1650 - lr: 0.0019\n",
      "Epoch 10/300\n",
      "238/240 [============================>.] - ETA: 0s - loss: 0.1068 - root_mean_squared_error: 0.1697\n",
      "Epoch 10: val_loss did not improve from 0.10032\n",
      "240/240 [==============================] - 5s 20ms/step - loss: 0.1068 - root_mean_squared_error: 0.1698 - val_loss: 0.1026 - val_root_mean_squared_error: 0.1615 - lr: 0.0019\n",
      "Epoch 11/300\n",
      "240/240 [==============================] - ETA: 0s - loss: 0.1070 - root_mean_squared_error: 0.1696\n",
      "Epoch 11: val_loss improved from 0.10032 to 0.09871, saving model to /disk1/jupyter/smhan/ASI-revised/output_norm/models/fc/asi_fc_weights.hdf5\n",
      "240/240 [==============================] - 5s 22ms/step - loss: 0.1070 - root_mean_squared_error: 0.1696 - val_loss: 0.0987 - val_root_mean_squared_error: 0.1559 - lr: 0.0019\n",
      "Epoch 12/300\n",
      "238/240 [============================>.] - ETA: 0s - loss: 0.1047 - root_mean_squared_error: 0.1674\n",
      "Epoch 12: val_loss did not improve from 0.09871\n",
      "240/240 [==============================] - 5s 22ms/step - loss: 0.1048 - root_mean_squared_error: 0.1674 - val_loss: 0.1022 - val_root_mean_squared_error: 0.1598 - lr: 0.0019\n",
      "Epoch 13/300\n",
      "238/240 [============================>.] - ETA: 0s - loss: 0.1049 - root_mean_squared_error: 0.1676\n",
      "Epoch 13: val_loss did not improve from 0.09871\n",
      "240/240 [==============================] - 5s 22ms/step - loss: 0.1049 - root_mean_squared_error: 0.1676 - val_loss: 0.1127 - val_root_mean_squared_error: 0.1685 - lr: 0.0019\n",
      "Epoch 14/300\n",
      "240/240 [==============================] - ETA: 0s - loss: 0.1045 - root_mean_squared_error: 0.1670\n",
      "Epoch 14: val_loss did not improve from 0.09871\n",
      "240/240 [==============================] - 5s 22ms/step - loss: 0.1045 - root_mean_squared_error: 0.1670 - val_loss: 0.1015 - val_root_mean_squared_error: 0.1590 - lr: 0.0019\n",
      "Epoch 15/300\n",
      "240/240 [==============================] - ETA: 0s - loss: 0.1056 - root_mean_squared_error: 0.1680\n",
      "Epoch 15: val_loss did not improve from 0.09871\n",
      "240/240 [==============================] - 5s 21ms/step - loss: 0.1056 - root_mean_squared_error: 0.1680 - val_loss: 0.0997 - val_root_mean_squared_error: 0.1565 - lr: 0.0019\n",
      "Epoch 16/300\n",
      "238/240 [============================>.] - ETA: 0s - loss: 0.1059 - root_mean_squared_error: 0.1685\n",
      "Epoch 16: val_loss did not improve from 0.09871\n",
      "240/240 [==============================] - 5s 21ms/step - loss: 0.1059 - root_mean_squared_error: 0.1685 - val_loss: 0.0994 - val_root_mean_squared_error: 0.1577 - lr: 0.0019\n",
      "Epoch 17/300\n",
      "239/240 [============================>.] - ETA: 0s - loss: 0.0985 - root_mean_squared_error: 0.1617\n",
      "Epoch 17: val_loss improved from 0.09871 to 0.09532, saving model to /disk1/jupyter/smhan/ASI-revised/output_norm/models/fc/asi_fc_weights.hdf5\n",
      "240/240 [==============================] - 5s 21ms/step - loss: 0.0985 - root_mean_squared_error: 0.1617 - val_loss: 0.0953 - val_root_mean_squared_error: 0.1530 - lr: 1.9000e-04\n",
      "Epoch 18/300\n",
      "238/240 [============================>.] - ETA: 0s - loss: 0.0980 - root_mean_squared_error: 0.1607\n",
      "Epoch 18: val_loss did not improve from 0.09532\n",
      "240/240 [==============================] - 5s 21ms/step - loss: 0.0980 - root_mean_squared_error: 0.1610 - val_loss: 0.0955 - val_root_mean_squared_error: 0.1530 - lr: 1.9000e-04\n",
      "Epoch 19/300\n",
      "238/240 [============================>.] - ETA: 0s - loss: 0.0980 - root_mean_squared_error: 0.1610\n",
      "Epoch 19: val_loss improved from 0.09532 to 0.09509, saving model to /disk1/jupyter/smhan/ASI-revised/output_norm/models/fc/asi_fc_weights.hdf5\n",
      "240/240 [==============================] - 5s 21ms/step - loss: 0.0981 - root_mean_squared_error: 0.1610 - val_loss: 0.0951 - val_root_mean_squared_error: 0.1522 - lr: 1.9000e-04\n",
      "Epoch 20/300\n",
      "240/240 [==============================] - ETA: 0s - loss: 0.0978 - root_mean_squared_error: 0.1608\n",
      "Epoch 20: val_loss did not improve from 0.09509\n",
      "240/240 [==============================] - 5s 20ms/step - loss: 0.0978 - root_mean_squared_error: 0.1608 - val_loss: 0.0951 - val_root_mean_squared_error: 0.1520 - lr: 1.9000e-04\n",
      "Epoch 21/300\n",
      "238/240 [============================>.] - ETA: 0s - loss: 0.0979 - root_mean_squared_error: 0.1606\n",
      "Epoch 21: val_loss did not improve from 0.09509\n",
      "240/240 [==============================] - 5s 20ms/step - loss: 0.0979 - root_mean_squared_error: 0.1608 - val_loss: 0.0952 - val_root_mean_squared_error: 0.1518 - lr: 1.9000e-04\n"
     ]
    },
    {
     "name": "stdout",
     "output_type": "stream",
     "text": [
      "Epoch 22/300\n",
      "240/240 [==============================] - ETA: 0s - loss: 0.0981 - root_mean_squared_error: 0.1610\n",
      "Epoch 22: val_loss improved from 0.09509 to 0.09503, saving model to /disk1/jupyter/smhan/ASI-revised/output_norm/models/fc/asi_fc_weights.hdf5\n",
      "240/240 [==============================] - 5s 20ms/step - loss: 0.0981 - root_mean_squared_error: 0.1610 - val_loss: 0.0950 - val_root_mean_squared_error: 0.1516 - lr: 1.9000e-04\n",
      "Epoch 23/300\n",
      "238/240 [============================>.] - ETA: 0s - loss: 0.0977 - root_mean_squared_error: 0.1605\n",
      "Epoch 23: val_loss did not improve from 0.09503\n",
      "240/240 [==============================] - 5s 20ms/step - loss: 0.0977 - root_mean_squared_error: 0.1606 - val_loss: 0.0953 - val_root_mean_squared_error: 0.1520 - lr: 1.9000e-04\n",
      "Epoch 24/300\n",
      "238/240 [============================>.] - ETA: 0s - loss: 0.0978 - root_mean_squared_error: 0.1605\n",
      "Epoch 24: val_loss did not improve from 0.09503\n",
      "240/240 [==============================] - 5s 20ms/step - loss: 0.0977 - root_mean_squared_error: 0.1604 - val_loss: 0.0952 - val_root_mean_squared_error: 0.1520 - lr: 1.9000e-04\n",
      "Epoch 25/300\n",
      "240/240 [==============================] - ETA: 0s - loss: 0.0969 - root_mean_squared_error: 0.1599\n",
      "Epoch 25: val_loss improved from 0.09503 to 0.09456, saving model to /disk1/jupyter/smhan/ASI-revised/output_norm/models/fc/asi_fc_weights.hdf5\n",
      "240/240 [==============================] - 5s 20ms/step - loss: 0.0969 - root_mean_squared_error: 0.1599 - val_loss: 0.0946 - val_root_mean_squared_error: 0.1515 - lr: 1.9000e-05\n",
      "Epoch 26/300\n",
      "239/240 [============================>.] - ETA: 0s - loss: 0.0967 - root_mean_squared_error: 0.1598\n",
      "Epoch 26: val_loss improved from 0.09456 to 0.09447, saving model to /disk1/jupyter/smhan/ASI-revised/output_norm/models/fc/asi_fc_weights.hdf5\n",
      "240/240 [==============================] - 5s 21ms/step - loss: 0.0967 - root_mean_squared_error: 0.1597 - val_loss: 0.0945 - val_root_mean_squared_error: 0.1514 - lr: 1.9000e-05\n",
      "Epoch 27/300\n",
      "240/240 [==============================] - ETA: 0s - loss: 0.0967 - root_mean_squared_error: 0.1597\n",
      "Epoch 27: val_loss did not improve from 0.09447\n",
      "240/240 [==============================] - 5s 20ms/step - loss: 0.0967 - root_mean_squared_error: 0.1597 - val_loss: 0.0946 - val_root_mean_squared_error: 0.1515 - lr: 1.9000e-05\n",
      "Epoch 28/300\n",
      "240/240 [==============================] - ETA: 0s - loss: 0.0967 - root_mean_squared_error: 0.1597\n",
      "Epoch 28: val_loss did not improve from 0.09447\n",
      "240/240 [==============================] - 5s 20ms/step - loss: 0.0967 - root_mean_squared_error: 0.1597 - val_loss: 0.0946 - val_root_mean_squared_error: 0.1515 - lr: 1.9000e-05\n",
      "Epoch 29/300\n",
      "240/240 [==============================] - ETA: 0s - loss: 0.0968 - root_mean_squared_error: 0.1598\n",
      "Epoch 29: val_loss did not improve from 0.09447\n",
      "240/240 [==============================] - 5s 20ms/step - loss: 0.0968 - root_mean_squared_error: 0.1598 - val_loss: 0.0946 - val_root_mean_squared_error: 0.1513 - lr: 1.9000e-05\n",
      "Epoch 30/300\n",
      "240/240 [==============================] - ETA: 0s - loss: 0.0967 - root_mean_squared_error: 0.1597\n",
      "Epoch 30: val_loss improved from 0.09447 to 0.09443, saving model to /disk1/jupyter/smhan/ASI-revised/output_norm/models/fc/asi_fc_weights.hdf5\n",
      "240/240 [==============================] - 5s 21ms/step - loss: 0.0967 - root_mean_squared_error: 0.1597 - val_loss: 0.0944 - val_root_mean_squared_error: 0.1514 - lr: 1.9000e-05\n",
      "Epoch 31/300\n",
      "238/240 [============================>.] - ETA: 0s - loss: 0.0966 - root_mean_squared_error: 0.1594\n",
      "Epoch 31: val_loss did not improve from 0.09443\n",
      "240/240 [==============================] - 5s 20ms/step - loss: 0.0966 - root_mean_squared_error: 0.1596 - val_loss: 0.0946 - val_root_mean_squared_error: 0.1516 - lr: 1.9000e-05\n",
      "Epoch 32/300\n",
      "240/240 [==============================] - ETA: 0s - loss: 0.0966 - root_mean_squared_error: 0.1597\n",
      "Epoch 32: val_loss did not improve from 0.09443\n",
      "240/240 [==============================] - 5s 20ms/step - loss: 0.0966 - root_mean_squared_error: 0.1597 - val_loss: 0.0946 - val_root_mean_squared_error: 0.1515 - lr: 1.9000e-05\n",
      "Epoch 33/300\n",
      "239/240 [============================>.] - ETA: 0s - loss: 0.0966 - root_mean_squared_error: 0.1596\n",
      "Epoch 33: val_loss did not improve from 0.09443\n",
      "240/240 [==============================] - 5s 20ms/step - loss: 0.0966 - root_mean_squared_error: 0.1596 - val_loss: 0.0945 - val_root_mean_squared_error: 0.1513 - lr: 1.9000e-05\n",
      "Epoch 34/300\n",
      "240/240 [==============================] - ETA: 0s - loss: 0.0966 - root_mean_squared_error: 0.1597\n",
      "Epoch 34: val_loss did not improve from 0.09443\n",
      "240/240 [==============================] - 5s 20ms/step - loss: 0.0966 - root_mean_squared_error: 0.1597 - val_loss: 0.0945 - val_root_mean_squared_error: 0.1515 - lr: 1.9000e-05\n",
      "Epoch 35/300\n",
      "239/240 [============================>.] - ETA: 0s - loss: 0.0966 - root_mean_squared_error: 0.1597\n",
      "Epoch 35: val_loss did not improve from 0.09443\n",
      "240/240 [==============================] - 5s 20ms/step - loss: 0.0966 - root_mean_squared_error: 0.1596 - val_loss: 0.0945 - val_root_mean_squared_error: 0.1516 - lr: 1.9000e-05\n",
      "Epoch 36/300\n",
      "238/240 [============================>.] - ETA: 0s - loss: 0.0964 - root_mean_squared_error: 0.1595\n",
      "Epoch 36: val_loss did not improve from 0.09443\n",
      "240/240 [==============================] - 5s 20ms/step - loss: 0.0965 - root_mean_squared_error: 0.1596 - val_loss: 0.0945 - val_root_mean_squared_error: 0.1514 - lr: 1.9000e-06\n",
      "Epoch 37/300\n",
      "238/240 [============================>.] - ETA: 0s - loss: 0.0964 - root_mean_squared_error: 0.1595\n",
      "Epoch 37: val_loss did not improve from 0.09443\n",
      "240/240 [==============================] - 5s 20ms/step - loss: 0.0964 - root_mean_squared_error: 0.1595 - val_loss: 0.0945 - val_root_mean_squared_error: 0.1514 - lr: 1.9000e-06\n",
      "Epoch 38/300\n",
      "238/240 [============================>.] - ETA: 0s - loss: 0.0964 - root_mean_squared_error: 0.1594\n",
      "Epoch 38: val_loss did not improve from 0.09443\n",
      "240/240 [==============================] - 5s 20ms/step - loss: 0.0964 - root_mean_squared_error: 0.1595 - val_loss: 0.0944 - val_root_mean_squared_error: 0.1514 - lr: 1.9000e-06\n",
      "Epoch 39/300\n",
      "240/240 [==============================] - ETA: 0s - loss: 0.0964 - root_mean_squared_error: 0.1595\n",
      "Epoch 39: val_loss improved from 0.09443 to 0.09443, saving model to /disk1/jupyter/smhan/ASI-revised/output_norm/models/fc/asi_fc_weights.hdf5\n",
      "240/240 [==============================] - 5s 21ms/step - loss: 0.0964 - root_mean_squared_error: 0.1595 - val_loss: 0.0944 - val_root_mean_squared_error: 0.1514 - lr: 1.9000e-06\n",
      "Epoch 40/300\n",
      "240/240 [==============================] - ETA: 0s - loss: 0.0964 - root_mean_squared_error: 0.1595\n",
      "Epoch 40: val_loss did not improve from 0.09443\n",
      "240/240 [==============================] - 5s 20ms/step - loss: 0.0964 - root_mean_squared_error: 0.1595 - val_loss: 0.0945 - val_root_mean_squared_error: 0.1514 - lr: 1.9000e-06\n",
      "Epoch 41/300\n",
      "239/240 [============================>.] - ETA: 0s - loss: 0.0964 - root_mean_squared_error: 0.1596\n",
      "Epoch 41: val_loss did not improve from 0.09443\n",
      "240/240 [==============================] - 5s 20ms/step - loss: 0.0964 - root_mean_squared_error: 0.1595 - val_loss: 0.0945 - val_root_mean_squared_error: 0.1514 - lr: 1.9000e-07\n",
      "Epoch 42/300\n",
      "238/240 [============================>.] - ETA: 0s - loss: 0.0964 - root_mean_squared_error: 0.1596\n",
      "Epoch 42: val_loss did not improve from 0.09443\n",
      "240/240 [==============================] - 5s 20ms/step - loss: 0.0964 - root_mean_squared_error: 0.1595 - val_loss: 0.0945 - val_root_mean_squared_error: 0.1514 - lr: 1.9000e-07\n",
      "Epoch 43/300\n",
      "240/240 [==============================] - ETA: 0s - loss: 0.0964 - root_mean_squared_error: 0.1595\n",
      "Epoch 43: val_loss did not improve from 0.09443\n",
      "240/240 [==============================] - 5s 20ms/step - loss: 0.0964 - root_mean_squared_error: 0.1595 - val_loss: 0.0945 - val_root_mean_squared_error: 0.1514 - lr: 1.9000e-07\n",
      "Epoch 44/300\n",
      "240/240 [==============================] - ETA: 0s - loss: 0.0964 - root_mean_squared_error: 0.1595\n",
      "Epoch 44: val_loss did not improve from 0.09443\n",
      "240/240 [==============================] - 5s 20ms/step - loss: 0.0964 - root_mean_squared_error: 0.1595 - val_loss: 0.0945 - val_root_mean_squared_error: 0.1514 - lr: 1.9000e-07\n"
     ]
    },
    {
     "name": "stdout",
     "output_type": "stream",
     "text": [
      "Epoch 45/300\n",
      "240/240 [==============================] - ETA: 0s - loss: 0.0964 - root_mean_squared_error: 0.1595\n",
      "Epoch 45: val_loss did not improve from 0.09443\n",
      "240/240 [==============================] - 5s 20ms/step - loss: 0.0964 - root_mean_squared_error: 0.1595 - val_loss: 0.0945 - val_root_mean_squared_error: 0.1514 - lr: 1.9000e-07\n",
      "Epoch 46/300\n",
      "240/240 [==============================] - ETA: 0s - loss: 0.0964 - root_mean_squared_error: 0.1595\n",
      "Epoch 46: val_loss did not improve from 0.09443\n",
      "240/240 [==============================] - 5s 20ms/step - loss: 0.0964 - root_mean_squared_error: 0.1595 - val_loss: 0.0945 - val_root_mean_squared_error: 0.1514 - lr: 1.9000e-08\n",
      "Epoch 47/300\n",
      "240/240 [==============================] - ETA: 0s - loss: 0.0964 - root_mean_squared_error: 0.1595\n",
      "Epoch 47: val_loss did not improve from 0.09443\n",
      "240/240 [==============================] - 5s 20ms/step - loss: 0.0964 - root_mean_squared_error: 0.1595 - val_loss: 0.0945 - val_root_mean_squared_error: 0.1514 - lr: 1.9000e-08\n",
      "Epoch 48/300\n",
      "238/240 [============================>.] - ETA: 0s - loss: 0.0964 - root_mean_squared_error: 0.1594\n",
      "Epoch 48: val_loss did not improve from 0.09443\n",
      "240/240 [==============================] - 5s 20ms/step - loss: 0.0964 - root_mean_squared_error: 0.1595 - val_loss: 0.0945 - val_root_mean_squared_error: 0.1514 - lr: 1.9000e-08\n",
      "Epoch 49/300\n",
      "240/240 [==============================] - ETA: 0s - loss: 0.0964 - root_mean_squared_error: 0.1595\n",
      "Epoch 49: val_loss did not improve from 0.09443\n",
      "240/240 [==============================] - 5s 20ms/step - loss: 0.0964 - root_mean_squared_error: 0.1595 - val_loss: 0.0945 - val_root_mean_squared_error: 0.1514 - lr: 1.9000e-08\n",
      "520/520 [==============================] - 4s 6ms/step\n",
      "2079/2079 [==============================] - 14s 6ms/step\n",
      "267/267 [==============================] - 3s 10ms/step\n",
      "67/67 [==============================] - 1s 9ms/step\n",
      "267/267 [==============================] - 3s 10ms/step\n",
      "67/67 [==============================] - 1s 11ms/step\n"
     ]
    }
   ],
   "source": [
    "dataset,\\\n",
    "result,\\\n",
    "fit,\\\n",
    "embedded_train,\\\n",
    "embedded_test,\\\n",
    "predict_regression_train,\\\n",
    "predict_regression_test = spatial()"
   ]
  },
  {
   "cell_type": "code",
   "execution_count": 6,
   "metadata": {
    "scrolled": true
   },
   "outputs": [
    {
     "name": "stdout",
     "output_type": "stream",
     "text": [
      "################# Test ##########################\n",
      "MALE test:.... 0.09712408986642801\n",
      "RMSE test:.... 22677.81167748109\n",
      "MAPE test:.... 6.286726263661184\n",
      "################# Train ##########################\n",
      "MALE train:.... 0.09622692184362909\n",
      "RMSE train:.... 22700.4392377485\n",
      "MAPE train:.... 6.187887665719645\n"
     ]
    }
   ],
   "source": [
    "print('################# Test ##########################')\n",
    "print('MALE test:.... {}'.format(result[0]))\n",
    "print('RMSE test:.... {}'.format(result[1]))\n",
    "print('MAPE test:.... {}'.format(result[2]))\n",
    "print('################# Train ##########################')\n",
    "print('MALE train:.... {}'.format(result[3]))\n",
    "print('RMSE train:.... {}'.format(result[4]))\n",
    "print('MAPE train:.... {}'.format(result[5]))"
   ]
  },
  {
   "cell_type": "code",
   "execution_count": 7,
   "metadata": {},
   "outputs": [],
   "source": [
    "from sklearn.metrics import r2_score\n",
    "import numpy as np\n",
    "\n",
    "# metric\n",
    "def metric(pred, label):\n",
    "    assert label.shape == pred.shape\n",
    "    \n",
    "    with np.errstate(divide = 'ignore', invalid = 'ignore'):\n",
    "        mask = np.not_equal(label, 0)\n",
    "        mask = mask.astype(np.float32)\n",
    "        mask /= np.mean(mask)\n",
    "        male = np.abs(np.subtract(np.log(pred), np.log(label))).astype(np.float32)\n",
    "        male = np.nan_to_num(male * mask)\n",
    "        male = np.mean(male)\n",
    "        mae = np.abs(np.subtract(pred, label)).astype(np.float32)\n",
    "        rmse = np.square(mae)\n",
    "        mape = np.divide(mae, label)\n",
    "        mae = np.nan_to_num(mae * mask)\n",
    "        mae = np.mean(mae)\n",
    "        rmse = np.nan_to_num(rmse * mask)\n",
    "        rmse = np.sqrt(np.mean(rmse))\n",
    "        mape = np.nan_to_num(mape * mask)\n",
    "        mape = np.median(mape) # np.mean(mape) -- author leverages median\n",
    "    return male, rmse, mape\n",
    "\n"
   ]
  },
  {
   "cell_type": "code",
   "execution_count": 8,
   "metadata": {},
   "outputs": [
    {
     "data": {
      "text/plain": [
       "(0.097124085, 22677.812, 0.06286726263661203)"
      ]
     },
     "execution_count": 8,
     "metadata": {},
     "output_type": "execute_result"
    }
   ],
   "source": [
    "y_label = np.exp(dataset.y_test)\n",
    "y_pred = np.exp(result[6].flatten())\n",
    "metric(y_pred, y_label) # should be same value"
   ]
  },
  {
   "cell_type": "code",
   "execution_count": 9,
   "metadata": {},
   "outputs": [
    {
     "data": {
      "text/plain": [
       "<matplotlib.collections.PathCollection at 0x7fab5246ef80>"
      ]
     },
     "execution_count": 9,
     "metadata": {},
     "output_type": "execute_result"
    },
    {
     "data": {
      "image/png": "[encoded data removed]",
      "text/plain": [
       "<Figure size 800x400 with 1 Axes>"
      ]
     },
     "metadata": {},
     "output_type": "display_data"
    }
   ],
   "source": [
    "plt.scatter(y_label, y_pred)"
   ]
  },
  {
   "cell_type": "code",
   "execution_count": null,
   "metadata": {},
   "outputs": [],
   "source": []
  }
 ],
 "metadata": {
  "kernelspec": {
   "display_name": "TF2",
   "language": "python",
   "name": "tf2"
  },
  "language_info": {
   "codemirror_mode": {
    "name": "ipython",
    "version": 3
   },
   "file_extension": ".py",
   "mimetype": "text/x-python",
   "name": "python",
   "nbconvert_exporter": "python",
   "pygments_lexer": "ipython3",
   "version": "3.10.8"
  }
 },
 "nbformat": 4,
 "nbformat_minor": 4
}
