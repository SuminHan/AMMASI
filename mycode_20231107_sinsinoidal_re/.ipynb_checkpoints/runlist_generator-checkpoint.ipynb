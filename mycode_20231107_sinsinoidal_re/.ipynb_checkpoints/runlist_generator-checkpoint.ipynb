{
 "cells": [
  {
   "cell_type": "code",
   "execution_count": 1,
   "id": "90d8150a",
   "metadata": {},
   "outputs": [],
   "source": [
    "# with open('run_subprocess_list.sh', 'w') as fp:\n",
    "#     model_name = 'MyBasicNei'\n",
    "#     for appendix in ['', '--use_poiprox', '--use_latlon --use_poiprox', '--use_latlon']:\n",
    "#         for sigma in [0.02, 0.05, 0.1, 0.5, 1, 5, 10, 20]:\n",
    "#             for dataset in ['poa', 'kc', 'sp', 'fc']:\n",
    "#                 fp.write(f'python train_addr.py --dataset={dataset} --model_name={model_name} --sigma={sigma} {appendix}\\n')"
   ]
  },
  {
   "cell_type": "code",
   "execution_count": 5,
   "id": "f56abdb4",
   "metadata": {},
   "outputs": [],
   "source": [
    "# with open('run_subprocess_list.sh', 'w') as fp:\n",
    "#     model_name = 'MyBasicNei'\n",
    "#     for appendix in ['', '--use_poiprox', '--use_latlon --use_poiprox', '--use_latlon']:\n",
    "# #         for sigma in [0.01, 0.03, 0.04, 0.06, 0.07, 0.08, 0.09]:\n",
    "# #             for dataset in ['poa', 'kc', 'sp', 'fc']:\n",
    "# #                 fp.write(f'python train_addr.py --dataset={dataset} --model_name={model_name} --sigma={sigma} {appendix}\\n')\n",
    "\n",
    "#         for sigma in [0.2, 0.3, 0.4, 0.6, 0.7, 0.8, 0.9]:\n",
    "#             for dataset in ['poa', 'kc', 'sp', 'fc']:\n",
    "#                 fp.write(f'python train_addr.py --dataset={dataset} --model_name={model_name} --sigma={sigma} {appendix}\\n')\n",
    "\n",
    "# #         for sigma in [2, 3, 4, 6, 7, 8, 9]:\n",
    "# #             for dataset in ['poa', 'kc', 'sp', 'fc']:\n",
    "# #                 fp.write(f'python train_addr.py --dataset={dataset} --model_name={model_name} --sigma={sigma} {appendix}\\n')\n"
   ]
  },
  {
   "cell_type": "code",
   "execution_count": 1,
   "id": "a9b7316e",
   "metadata": {},
   "outputs": [],
   "source": [
    "# with open('run_subprocess_list.sh', 'w') as fp:\n",
    "#     model_name = 'MyBasicNei'\n",
    "    \n",
    "#     for appendix in ['--use_latlon --use_poiprox --use_sinsinoidal', '--use_latlon --use_sinsinoidal',\n",
    "#                      '--use_latlon --use_poiprox', '--use_latlon',\n",
    "#                      '', '--use_poiprox', ]:\n",
    "#         for sigma in [0.01, 0.02, 0.03, 0.05,\n",
    "#                        0.1,  0.2,  0.3,  0.5,  \n",
    "#                        1, 2, 3, 5, 10, 20]:\n",
    "#             for sigma2 in [0.02, 0.05, 0.2, 2]:\n",
    "#                 for dataset in ['poa', 'kc', 'sp', 'fc']:\n",
    "#                     fp.write(f'python train_addr.py --dataset={dataset} --model_name={model_name} --sigma={sigma} --sigma2={sigma2} {appendix}\\n')\n"
   ]
  },
  {
   "cell_type": "code",
   "execution_count": 5,
   "id": "ee1fc1fd",
   "metadata": {},
   "outputs": [],
   "source": [
    "with open('run_subprocess_list.sh', 'w') as fp:\n",
    "    model_name = 'MyBasicNei'\n",
    "    \n",
    "    for appendix in ['--use_latlon --use_sinsinoidal --use_poiprox ', \n",
    "                     '--use_latlon --use_sinsinoidal',\n",
    "#                      '--use_locfeat --use_poiprox', \n",
    "#                      '--use_locfeat',\n",
    "                    ]:\n",
    "        for sigma in [0.02, 0.01, 0.03, 0.05,\n",
    "                       0.1,  0.2,  0.3,  0.5,  \n",
    "                       1, 2, 3, 5, 10, 20]:\n",
    "            for sigma2 in [0.05, 0.02, 0.2, 2]:\n",
    "                for dataset in ['poa', 'kc', 'sp', 'fc']:\n",
    "                    fp.write(f'python train_addr.py --dataset={dataset} --model_name={model_name} --sigma={sigma} --sigma2={sigma2} {appendix}\\n')\n"
   ]
  },
  {
   "cell_type": "code",
   "execution_count": null,
   "id": "8aa185dc",
   "metadata": {},
   "outputs": [],
   "source": []
  }
 ],
 "metadata": {
  "kernelspec": {
   "display_name": "TF2",
   "language": "python",
   "name": "tf2"
  },
  "language_info": {
   "codemirror_mode": {
    "name": "ipython",
    "version": 3
   },
   "file_extension": ".py",
   "mimetype": "text/x-python",
   "name": "python",
   "nbconvert_exporter": "python",
   "pygments_lexer": "ipython3",
   "version": "3.10.8"
  }
 },
 "nbformat": 4,
 "nbformat_minor": 5
}
