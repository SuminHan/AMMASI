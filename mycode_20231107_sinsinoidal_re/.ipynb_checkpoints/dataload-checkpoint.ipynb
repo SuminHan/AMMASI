{
 "cells": [
  {
   "cell_type": "code",
   "execution_count": 1,
   "id": "dee03249",
   "metadata": {},
   "outputs": [
    {
     "name": "stdout",
     "output_type": "stream",
     "text": [
      "Note: NumExpr detected 64 cores but \"NUMEXPR_MAX_THREADS\" not set, so enforcing safe limit of 8.\n",
      "NumExpr defaulting to 8 threads.\n"
     ]
    }
   ],
   "source": [
    "import os, tqdm\n",
    "import numpy as np\n",
    "from cartoframes.viz import *\n",
    "import pandas as pd\n",
    "import geopandas as gpd"
   ]
  },
  {
   "cell_type": "code",
   "execution_count": 2,
   "id": "7e4eca94",
   "metadata": {},
   "outputs": [],
   "source": [
    "from sklearn.metrics import r2_score\n",
    "import numpy as np\n",
    "\n",
    "# metric\n",
    "def metric(pred, label):\n",
    "    assert label.shape == pred.shape\n",
    "    \n",
    "    with np.errstate(divide = 'ignore', invalid = 'ignore'):\n",
    "        mask = np.not_equal(label, 0)\n",
    "        mask = mask.astype(np.float32)\n",
    "        mask /= np.mean(mask)\n",
    "        male = np.abs(np.subtract(np.log(pred), np.log(label))).astype(np.float32)\n",
    "        male = np.nan_to_num(male * mask)\n",
    "        male = np.mean(male)\n",
    "        mae = np.abs(np.subtract(pred, label)).astype(np.float32)\n",
    "        rmse = np.square(mae)\n",
    "        mape = np.divide(mae, label)\n",
    "        mae = np.nan_to_num(mae * mask)\n",
    "        mae = np.mean(mae)\n",
    "        rmse = np.nan_to_num(rmse * mask)\n",
    "        rmse = np.sqrt(np.mean(rmse))\n",
    "        mape = np.nan_to_num(mape * mask)\n",
    "        mape = np.median(mape) # np.mean(mape) -- author leverages median\n",
    "    return male, rmse, mape\n",
    "\n"
   ]
  },
  {
   "cell_type": "code",
   "execution_count": 3,
   "id": "1bd13008",
   "metadata": {},
   "outputs": [],
   "source": [
    "streetmap = {\n",
    "    'style': 'mapbox://styles/mapbox/streets-v9',\n",
    "    'token': 'pk.eyJ1IjoiaHNtNjkxMSIsImEiOiJjazl0and6aDUwOWF2M2RvemdrYjllczV3In0.qGmaAF6v-1LAF9C-dnMLBg'\n",
    "}\n",
    "mybasemap = {\n",
    "    #'style': 'mapbox://styles/mapbox/streets-v9',\n",
    "    'style': 'mapbox://styles/mapbox/satellite-v9',\n",
    "    'token': 'pk.eyJ1IjoiaHNtNjkxMSIsImEiOiJjazl0and6aDUwOWF2M2RvemdrYjllczV3In0.qGmaAF6v-1LAF9C-dnMLBg'\n",
    "}"
   ]
  },
  {
   "cell_type": "code",
   "execution_count": 5,
   "id": "3adb63a1",
   "metadata": {},
   "outputs": [
    {
     "name": "stdout",
     "output_type": "stream",
     "text": [
      "sp\n",
      "poa\n",
      "kc\n",
      "fc\n"
     ]
    }
   ],
   "source": [
    "for dname in reversed(['fc', 'kc', 'poa', 'sp']):\n",
    "    print(dname)\n",
    "    data = np.load(f'../datasets/{dname}/data.npz')"
   ]
  },
  {
   "cell_type": "code",
   "execution_count": 10,
   "id": "f7088c85",
   "metadata": {},
   "outputs": [
    {
     "data": {
      "text/plain": [
       "(83136, 60)"
      ]
     },
     "execution_count": 10,
     "metadata": {},
     "output_type": "execute_result"
    }
   ],
   "source": [
    "data['idx_geo'].shape"
   ]
  },
  {
   "cell_type": "code",
   "execution_count": 12,
   "id": "df95e270",
   "metadata": {},
   "outputs": [
    {
     "data": {
      "text/plain": [
       "(66510, 60)"
      ]
     },
     "execution_count": 12,
     "metadata": {},
     "output_type": "execute_result"
    }
   ],
   "source": []
  },
  {
   "cell_type": "code",
   "execution_count": 13,
   "id": "720d74b6",
   "metadata": {},
   "outputs": [
    {
     "data": {
      "text/plain": [
       "array([[57434, 19383, 39653, ..., 61490, 53853, 52480],\n",
       "       [31853, 56368, 51453, ..., 57008, 41237,    18],\n",
       "       [59053, 57082, 62046, ..., 56824, 65719, 58205],\n",
       "       ...,\n",
       "       [39601,  7456,  8826, ...,  6926, 46585, 18400],\n",
       "       [16702,    43,  6792, ..., 35812, 64632, 37672],\n",
       "       [22894,  5087, 63998, ..., 42854, 53499,  8761]])"
      ]
     },
     "execution_count": 13,
     "metadata": {},
     "output_type": "execute_result"
    }
   ],
   "source": []
  },
  {
   "cell_type": "code",
   "execution_count": 8,
   "id": "55076dc8",
   "metadata": {},
   "outputs": [
    {
     "data": {
      "text/plain": [
       "['dist_eucli',\n",
       " 'dist_geo',\n",
       " 'idx_eucli',\n",
       " 'idx_geo',\n",
       " 'X_test',\n",
       " 'X_train',\n",
       " 'y_test',\n",
       " 'y_train']"
      ]
     },
     "execution_count": 8,
     "metadata": {},
     "output_type": "execute_result"
    }
   ],
   "source": [
    "list(data)"
   ]
  },
  {
   "cell_type": "code",
   "execution_count": 7,
   "id": "1cccc451",
   "metadata": {},
   "outputs": [
    {
     "data": {
      "text/plain": [
       "array([[ 3.80115231e+01, -8.45332863e+01,  2.50600000e-01, ...,\n",
       "         1.06500000e+03,  1.00000000e+00,  0.00000000e+00],\n",
       "       [ 3.79727518e+01, -8.45222551e+01,  8.91000000e-02, ...,\n",
       "         1.07000000e+03,  2.00000000e+00,  0.00000000e+00],\n",
       "       [ 3.80568142e+01, -8.44710521e+01,  2.58300000e-01, ...,\n",
       "         1.16500000e+03,  1.00000000e+00,  0.00000000e+00],\n",
       "       ...,\n",
       "       [ 3.79766370e+01, -8.44942216e+01,  1.68600000e-01, ...,\n",
       "         9.36000000e+02,  1.00000000e+00,  1.00000000e+00],\n",
       "       [ 3.79949380e+01, -8.44570052e+01,  1.49200000e-01, ...,\n",
       "         1.08000000e+03,  2.00000000e+00,  0.00000000e+00],\n",
       "       [ 3.80873618e+01, -8.45466751e+01,  1.36200000e-01, ...,\n",
       "         1.23200000e+03,  2.00000000e+00,  0.00000000e+00]])"
      ]
     },
     "execution_count": 7,
     "metadata": {},
     "output_type": "execute_result"
    }
   ],
   "source": [
    "data['X_train']"
   ]
  },
  {
   "cell_type": "code",
   "execution_count": null,
   "id": "dfec1136",
   "metadata": {},
   "outputs": [],
   "source": []
  }
 ],
 "metadata": {
  "kernelspec": {
   "display_name": "TF2",
   "language": "python",
   "name": "tf2"
  },
  "language_info": {
   "codemirror_mode": {
    "name": "ipython",
    "version": 3
   },
   "file_extension": ".py",
   "mimetype": "text/x-python",
   "name": "python",
   "nbconvert_exporter": "python",
   "pygments_lexer": "ipython3",
   "version": "3.10.8"
  }
 },
 "nbformat": 4,
 "nbformat_minor": 5
}
